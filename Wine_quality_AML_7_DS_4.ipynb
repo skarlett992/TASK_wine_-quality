{
  "nbformat": 4,
  "nbformat_minor": 0,
  "metadata": {
    "kernelspec": {
      "display_name": "Python 3",
      "language": "python",
      "name": "python3"
    },
    "language_info": {
      "codemirror_mode": {
        "name": "ipython",
        "version": 3
      },
      "file_extension": ".py",
      "mimetype": "text/x-python",
      "name": "python",
      "nbconvert_exporter": "python",
      "pygments_lexer": "ipython3",
      "version": "3.7.3"
    },
    "colab": {
      "name": "Wine quality_AML_7_DS-4.ipynb",
      "provenance": [],
      "collapsed_sections": [
        "Y1ZLsvd1hbsm",
        "ZqATdQfDkRqB",
        "M34UajuLovdU",
        "bzHAhX9SpXIB",
        "GyYZLEHrbI1w",
        "Zy1zAh_-bI2G",
        "ZPv-cILLbI2r",
        "OqifzMzubI2r",
        "KbRtg3KYbI2z",
        "ISJrpCuibI22",
        "1wS2QJlSbI3T",
        "6YHiMMRebI4C"
      ],
      "toc_visible": true
    }
  },
  "cells": [
    {
      "cell_type": "code",
      "metadata": {
        "id": "o_cMy7_bRfLT",
        "colab": {
          "base_uri": "https://localhost:8080/"
        },
        "outputId": "fd3387fb-7d09-49f6-d477-f716825adfd5"
      },
      "source": [
        "!pip install virtualenv\n",
        "# mkvirtualenv\n"
      ],
      "execution_count": 2,
      "outputs": [
        {
          "output_type": "stream",
          "text": [
            "Collecting virtualenv\n",
            "\u001b[?25l  Downloading https://files.pythonhosted.org/packages/9f/fb/7423637e48cffbb2e567ca113d2b05068f8b457dde998ab487adf7386c86/virtualenv-20.4.2-py2.py3-none-any.whl (7.2MB)\n",
            "\u001b[K     |████████████████████████████████| 7.2MB 3.9MB/s \n",
            "\u001b[?25hRequirement already satisfied: six<2,>=1.9.0 in /usr/local/lib/python3.6/dist-packages (from virtualenv) (1.15.0)\n",
            "Requirement already satisfied: importlib-metadata>=0.12; python_version < \"3.8\" in /usr/local/lib/python3.6/dist-packages (from virtualenv) (3.4.0)\n",
            "Requirement already satisfied: appdirs<2,>=1.4.3 in /usr/local/lib/python3.6/dist-packages (from virtualenv) (1.4.4)\n",
            "Requirement already satisfied: importlib-resources>=1.0; python_version < \"3.7\" in /usr/local/lib/python3.6/dist-packages (from virtualenv) (5.1.0)\n",
            "Requirement already satisfied: filelock<4,>=3.0.0 in /usr/local/lib/python3.6/dist-packages (from virtualenv) (3.0.12)\n",
            "Collecting distlib<1,>=0.3.1\n",
            "\u001b[?25l  Downloading https://files.pythonhosted.org/packages/f5/0a/490fa011d699bb5a5f3a0cf57de82237f52a6db9d40f33c53b2736c9a1f9/distlib-0.3.1-py2.py3-none-any.whl (335kB)\n",
            "\u001b[K     |████████████████████████████████| 337kB 49.2MB/s \n",
            "\u001b[?25hRequirement already satisfied: zipp>=0.5 in /usr/local/lib/python3.6/dist-packages (from importlib-metadata>=0.12; python_version < \"3.8\"->virtualenv) (3.4.0)\n",
            "Requirement already satisfied: typing-extensions>=3.6.4; python_version < \"3.8\" in /usr/local/lib/python3.6/dist-packages (from importlib-metadata>=0.12; python_version < \"3.8\"->virtualenv) (3.7.4.3)\n",
            "Installing collected packages: distlib, virtualenv\n",
            "Successfully installed distlib-0.3.1 virtualenv-20.4.2\n"
          ],
          "name": "stdout"
        }
      ]
    },
    {
      "cell_type": "code",
      "metadata": {
        "id": "w7RYiJX5B7Jk",
        "colab": {
          "base_uri": "https://localhost:8080/"
        },
        "outputId": "690dcf00-8772-4805-e1af-b119c58ee7e2"
      },
      "source": [
        "from google.colab import drive\n",
        "drive.mount('/content/drive')"
      ],
      "execution_count": 1,
      "outputs": [
        {
          "output_type": "stream",
          "text": [
            "Mounted at /content/drive\n"
          ],
          "name": "stdout"
        }
      ]
    },
    {
      "cell_type": "code",
      "metadata": {
        "id": "lpYIwQYRS2mm",
        "colab": {
          "base_uri": "https://localhost:8080/"
        },
        "outputId": "eee43b34-0a0a-46f1-9363-fe847224515d"
      },
      "source": [
        "!pip install mlens"
      ],
      "execution_count": 3,
      "outputs": [
        {
          "output_type": "stream",
          "text": [
            "Collecting mlens\n",
            "\u001b[?25l  Downloading https://files.pythonhosted.org/packages/0b/f7/c04bda423ac93ddb54bc4c3a21c79c9a24bc83844efc30dc4c11c289e894/mlens-0.2.3-py2.py3-none-any.whl (227kB)\n",
            "\r\u001b[K     |█▍                              | 10kB 16.4MB/s eta 0:00:01\r\u001b[K     |██▉                             | 20kB 9.9MB/s eta 0:00:01\r\u001b[K     |████▎                           | 30kB 7.6MB/s eta 0:00:01\r\u001b[K     |█████▊                          | 40kB 7.2MB/s eta 0:00:01\r\u001b[K     |███████▏                        | 51kB 3.2MB/s eta 0:00:01\r\u001b[K     |████████▋                       | 61kB 3.8MB/s eta 0:00:01\r\u001b[K     |██████████                      | 71kB 4.3MB/s eta 0:00:01\r\u001b[K     |███████████▌                    | 81kB 4.8MB/s eta 0:00:01\r\u001b[K     |█████████████                   | 92kB 4.6MB/s eta 0:00:01\r\u001b[K     |██████████████▍                 | 102kB 3.6MB/s eta 0:00:01\r\u001b[K     |███████████████▉                | 112kB 3.6MB/s eta 0:00:01\r\u001b[K     |█████████████████▎              | 122kB 3.6MB/s eta 0:00:01\r\u001b[K     |██████████████████▊             | 133kB 3.6MB/s eta 0:00:01\r\u001b[K     |████████████████████▏           | 143kB 3.6MB/s eta 0:00:01\r\u001b[K     |█████████████████████▋          | 153kB 3.6MB/s eta 0:00:01\r\u001b[K     |███████████████████████         | 163kB 3.6MB/s eta 0:00:01\r\u001b[K     |████████████████████████▌       | 174kB 3.6MB/s eta 0:00:01\r\u001b[K     |██████████████████████████      | 184kB 3.6MB/s eta 0:00:01\r\u001b[K     |███████████████████████████▍    | 194kB 3.6MB/s eta 0:00:01\r\u001b[K     |████████████████████████████▉   | 204kB 3.6MB/s eta 0:00:01\r\u001b[K     |██████████████████████████████▎ | 215kB 3.6MB/s eta 0:00:01\r\u001b[K     |███████████████████████████████▋| 225kB 3.6MB/s eta 0:00:01\r\u001b[K     |████████████████████████████████| 235kB 3.6MB/s \n",
            "\u001b[?25hRequirement already satisfied: scipy>=0.17 in /usr/local/lib/python3.6/dist-packages (from mlens) (1.4.1)\n",
            "Requirement already satisfied: numpy>=1.11 in /usr/local/lib/python3.6/dist-packages (from mlens) (1.19.5)\n",
            "Installing collected packages: mlens\n",
            "Successfully installed mlens-0.2.3\n"
          ],
          "name": "stdout"
        }
      ]
    },
    {
      "cell_type": "code",
      "metadata": {
        "id": "K86SNc34S2tJ",
        "colab": {
          "base_uri": "https://localhost:8080/"
        },
        "outputId": "38d6588b-ef2c-4939-a5ff-491981a70410"
      },
      "source": [
        "# Ignore warnings\n",
        "import warnings\n",
        "warnings.filterwarnings('ignore')\n",
        "\n",
        "# Handle table-like data and matrices\n",
        "import numpy as np\n",
        "import pandas as pd\n",
        "\n",
        "# Modelling Algorithms\n",
        "from sklearn.tree import DecisionTreeClassifier\n",
        "from sklearn.linear_model import LogisticRegression, LinearRegression\n",
        "from sklearn.neighbors import KNeighborsClassifier\n",
        "from sklearn.naive_bayes import GaussianNB\n",
        "from sklearn.svm import SVC, LinearSVC\n",
        "from sklearn.ensemble import RandomForestClassifier\n",
        "from sklearn.linear_model import SGDClassifier\n",
        "from sklearn.naive_bayes import MultinomialNB\n",
        "from sklearn.linear_model import Ridge\n",
        "from sklearn.ensemble import RandomForestRegressor\n",
        "from xgboost import XGBClassifier\n",
        "from xgboost import XGBRegressor\n",
        "\n",
        "# Modelling Helpers\n",
        "from sklearn.impute import SimpleImputer as Imputer\n",
        "from sklearn.preprocessing import  Normalizer , scale\n",
        "from sklearn.preprocessing import StandardScaler\n",
        "from sklearn.preprocessing import LabelEncoder, OneHotEncoder\n",
        "from sklearn.model_selection import train_test_split , StratifiedKFold\n",
        "from sklearn.model_selection import GridSearchCV\n",
        "from sklearn.model_selection import KFold, cross_validate, cross_val_score\n",
        "from sklearn.feature_selection import RFECV\n",
        "from mlens.ensemble import SuperLearner\n",
        "from sklearn.pipeline import Pipeline\n",
        "\n",
        "# Metrics\n",
        "from sklearn.metrics import auc, roc_curve, roc_auc_score, r2_score\n",
        "from sklearn.metrics import mean_squared_error, mean_absolute_error\n",
        "from sklearn.metrics import classification_report\n",
        "\n",
        "\n",
        "# Visualisation\n",
        "import matplotlib as mpl\n",
        "import matplotlib.pyplot as plt\n",
        "import matplotlib.pylab as pylab\n",
        "import seaborn as sns\n",
        "\n",
        "# Configure visualisations\n",
        "%matplotlib inline\n",
        "mpl.style.use( 'ggplot' )\n",
        "sns.set_style( 'white' )\n",
        "pylab.rcParams[ 'figure.figsize' ] = 8 , 6\n",
        "from pylab import *"
      ],
      "execution_count": 4,
      "outputs": [
        {
          "output_type": "stream",
          "text": [
            "[MLENS] backend: threading\n"
          ],
          "name": "stderr"
        }
      ]
    },
    {
      "cell_type": "code",
      "metadata": {
        "id": "dp4_w7nbS1FB"
      },
      "source": [
        "pip freeze > requirements.txt"
      ],
      "execution_count": 5,
      "outputs": []
    },
    {
      "cell_type": "code",
      "metadata": {
        "id": "xvg1ydudbyLh",
        "colab": {
          "base_uri": "https://localhost:8080/"
        },
        "outputId": "6b232717-e312-4b5e-aa7f-6020618d21e5"
      },
      "source": [
        "!pwd"
      ],
      "execution_count": 6,
      "outputs": [
        {
          "output_type": "stream",
          "text": [
            "/content\n"
          ],
          "name": "stdout"
        }
      ]
    },
    {
      "cell_type": "code",
      "metadata": {
        "id": "bJv7-ubFTmk6",
        "colab": {
          "base_uri": "https://localhost:8080/"
        },
        "outputId": "e47d392d-0517-4ab3-caae-76183e72fbe8"
      },
      "source": [
        "pip install -r requirements.txt"
      ],
      "execution_count": 7,
      "outputs": [
        {
          "output_type": "stream",
          "text": [
            "Requirement already satisfied: absl-py==0.10.0 in /usr/local/lib/python3.6/dist-packages (from -r requirements.txt (line 1)) (0.10.0)\n",
            "Requirement already satisfied: alabaster==0.7.12 in /usr/local/lib/python3.6/dist-packages (from -r requirements.txt (line 2)) (0.7.12)\n",
            "Requirement already satisfied: albumentations==0.1.12 in /usr/local/lib/python3.6/dist-packages (from -r requirements.txt (line 3)) (0.1.12)\n",
            "Requirement already satisfied: altair==4.1.0 in /usr/local/lib/python3.6/dist-packages (from -r requirements.txt (line 4)) (4.1.0)\n",
            "Requirement already satisfied: appdirs==1.4.4 in /usr/local/lib/python3.6/dist-packages (from -r requirements.txt (line 5)) (1.4.4)\n",
            "Requirement already satisfied: argon2-cffi==20.1.0 in /usr/local/lib/python3.6/dist-packages (from -r requirements.txt (line 6)) (20.1.0)\n",
            "Requirement already satisfied: asgiref==3.3.1 in /usr/local/lib/python3.6/dist-packages (from -r requirements.txt (line 7)) (3.3.1)\n",
            "Requirement already satisfied: astor==0.8.1 in /usr/local/lib/python3.6/dist-packages (from -r requirements.txt (line 8)) (0.8.1)\n",
            "Requirement already satisfied: astropy==4.1 in /usr/local/lib/python3.6/dist-packages (from -r requirements.txt (line 9)) (4.1)\n",
            "Requirement already satisfied: astunparse==1.6.3 in /usr/local/lib/python3.6/dist-packages (from -r requirements.txt (line 10)) (1.6.3)\n",
            "Requirement already satisfied: async-generator==1.10 in /usr/local/lib/python3.6/dist-packages (from -r requirements.txt (line 11)) (1.10)\n",
            "Requirement already satisfied: atari-py==0.2.6 in /usr/local/lib/python3.6/dist-packages (from -r requirements.txt (line 12)) (0.2.6)\n",
            "Requirement already satisfied: atomicwrites==1.4.0 in /usr/local/lib/python3.6/dist-packages (from -r requirements.txt (line 13)) (1.4.0)\n",
            "Requirement already satisfied: attrs==20.3.0 in /usr/local/lib/python3.6/dist-packages (from -r requirements.txt (line 14)) (20.3.0)\n",
            "Requirement already satisfied: audioread==2.1.9 in /usr/local/lib/python3.6/dist-packages (from -r requirements.txt (line 15)) (2.1.9)\n",
            "Requirement already satisfied: autograd==1.3 in /usr/local/lib/python3.6/dist-packages (from -r requirements.txt (line 16)) (1.3)\n",
            "Requirement already satisfied: Babel==2.9.0 in /usr/local/lib/python3.6/dist-packages (from -r requirements.txt (line 17)) (2.9.0)\n",
            "Requirement already satisfied: backcall==0.2.0 in /usr/local/lib/python3.6/dist-packages (from -r requirements.txt (line 18)) (0.2.0)\n",
            "Requirement already satisfied: beautifulsoup4==4.6.3 in /usr/local/lib/python3.6/dist-packages (from -r requirements.txt (line 19)) (4.6.3)\n",
            "Requirement already satisfied: bleach==3.3.0 in /usr/local/lib/python3.6/dist-packages (from -r requirements.txt (line 20)) (3.3.0)\n",
            "Requirement already satisfied: blis==0.4.1 in /usr/local/lib/python3.6/dist-packages (from -r requirements.txt (line 21)) (0.4.1)\n",
            "Requirement already satisfied: bokeh==2.1.1 in /usr/local/lib/python3.6/dist-packages (from -r requirements.txt (line 22)) (2.1.1)\n",
            "Requirement already satisfied: Bottleneck==1.3.2 in /usr/local/lib/python3.6/dist-packages (from -r requirements.txt (line 23)) (1.3.2)\n",
            "Requirement already satisfied: branca==0.4.2 in /usr/local/lib/python3.6/dist-packages (from -r requirements.txt (line 24)) (0.4.2)\n",
            "Requirement already satisfied: bs4==0.0.1 in /usr/local/lib/python3.6/dist-packages (from -r requirements.txt (line 25)) (0.0.1)\n",
            "Requirement already satisfied: CacheControl==0.12.6 in /usr/local/lib/python3.6/dist-packages (from -r requirements.txt (line 26)) (0.12.6)\n",
            "Requirement already satisfied: cachetools==4.2.1 in /usr/local/lib/python3.6/dist-packages (from -r requirements.txt (line 27)) (4.2.1)\n",
            "Requirement already satisfied: catalogue==1.0.0 in /usr/local/lib/python3.6/dist-packages (from -r requirements.txt (line 28)) (1.0.0)\n",
            "Requirement already satisfied: certifi==2020.12.5 in /usr/local/lib/python3.6/dist-packages (from -r requirements.txt (line 29)) (2020.12.5)\n",
            "Requirement already satisfied: cffi==1.14.4 in /usr/local/lib/python3.6/dist-packages (from -r requirements.txt (line 30)) (1.14.4)\n",
            "Requirement already satisfied: chainer==7.4.0 in /usr/local/lib/python3.6/dist-packages (from -r requirements.txt (line 31)) (7.4.0)\n",
            "Requirement already satisfied: chardet==3.0.4 in /usr/local/lib/python3.6/dist-packages (from -r requirements.txt (line 32)) (3.0.4)\n",
            "Requirement already satisfied: click==7.1.2 in /usr/local/lib/python3.6/dist-packages (from -r requirements.txt (line 33)) (7.1.2)\n",
            "Requirement already satisfied: cloudpickle==1.3.0 in /usr/local/lib/python3.6/dist-packages (from -r requirements.txt (line 34)) (1.3.0)\n",
            "Requirement already satisfied: cmake==3.12.0 in /usr/local/lib/python3.6/dist-packages (from -r requirements.txt (line 35)) (3.12.0)\n",
            "Requirement already satisfied: cmdstanpy==0.9.5 in /usr/local/lib/python3.6/dist-packages (from -r requirements.txt (line 36)) (0.9.5)\n",
            "Requirement already satisfied: colorlover==0.3.0 in /usr/local/lib/python3.6/dist-packages (from -r requirements.txt (line 37)) (0.3.0)\n",
            "Requirement already satisfied: community==1.0.0b1 in /usr/local/lib/python3.6/dist-packages (from -r requirements.txt (line 38)) (1.0.0b1)\n",
            "Requirement already satisfied: contextlib2==0.5.5 in /usr/local/lib/python3.6/dist-packages (from -r requirements.txt (line 39)) (0.5.5)\n",
            "Requirement already satisfied: convertdate==2.3.0 in /usr/local/lib/python3.6/dist-packages (from -r requirements.txt (line 40)) (2.3.0)\n",
            "Requirement already satisfied: coverage==3.7.1 in /usr/local/lib/python3.6/dist-packages (from -r requirements.txt (line 41)) (3.7.1)\n",
            "Requirement already satisfied: coveralls==0.5 in /usr/local/lib/python3.6/dist-packages (from -r requirements.txt (line 42)) (0.5)\n",
            "Requirement already satisfied: crcmod==1.7 in /usr/local/lib/python3.6/dist-packages (from -r requirements.txt (line 43)) (1.7)\n",
            "Requirement already satisfied: cufflinks==0.17.3 in /usr/local/lib/python3.6/dist-packages (from -r requirements.txt (line 44)) (0.17.3)\n",
            "Requirement already satisfied: cvxopt==1.2.5 in /usr/local/lib/python3.6/dist-packages (from -r requirements.txt (line 45)) (1.2.5)\n",
            "Requirement already satisfied: cvxpy==1.0.31 in /usr/local/lib/python3.6/dist-packages (from -r requirements.txt (line 46)) (1.0.31)\n",
            "Requirement already satisfied: cycler==0.10.0 in /usr/local/lib/python3.6/dist-packages (from -r requirements.txt (line 47)) (0.10.0)\n",
            "Requirement already satisfied: cymem==2.0.5 in /usr/local/lib/python3.6/dist-packages (from -r requirements.txt (line 48)) (2.0.5)\n",
            "Requirement already satisfied: Cython==0.29.21 in /usr/local/lib/python3.6/dist-packages (from -r requirements.txt (line 49)) (0.29.21)\n",
            "Requirement already satisfied: daft==0.0.4 in /usr/local/lib/python3.6/dist-packages (from -r requirements.txt (line 50)) (0.0.4)\n",
            "Requirement already satisfied: dask==2.12.0 in /usr/local/lib/python3.6/dist-packages (from -r requirements.txt (line 51)) (2.12.0)\n",
            "Requirement already satisfied: dataclasses==0.8 in /usr/local/lib/python3.6/dist-packages (from -r requirements.txt (line 52)) (0.8)\n",
            "Requirement already satisfied: datascience==0.10.6 in /usr/local/lib/python3.6/dist-packages (from -r requirements.txt (line 53)) (0.10.6)\n",
            "Requirement already satisfied: debugpy==1.0.0 in /usr/local/lib/python3.6/dist-packages (from -r requirements.txt (line 54)) (1.0.0)\n",
            "Requirement already satisfied: decorator==4.4.2 in /usr/local/lib/python3.6/dist-packages (from -r requirements.txt (line 55)) (4.4.2)\n",
            "Requirement already satisfied: defusedxml==0.6.0 in /usr/local/lib/python3.6/dist-packages (from -r requirements.txt (line 56)) (0.6.0)\n",
            "Requirement already satisfied: descartes==1.1.0 in /usr/local/lib/python3.6/dist-packages (from -r requirements.txt (line 57)) (1.1.0)\n",
            "Requirement already satisfied: dill==0.3.3 in /usr/local/lib/python3.6/dist-packages (from -r requirements.txt (line 58)) (0.3.3)\n",
            "Requirement already satisfied: distlib==0.3.1 in /usr/local/lib/python3.6/dist-packages (from -r requirements.txt (line 59)) (0.3.1)\n",
            "Requirement already satisfied: distributed==1.25.3 in /usr/local/lib/python3.6/dist-packages (from -r requirements.txt (line 60)) (1.25.3)\n",
            "Requirement already satisfied: Django==3.1.6 in /usr/local/lib/python3.6/dist-packages (from -r requirements.txt (line 61)) (3.1.6)\n",
            "Requirement already satisfied: dlib==19.18.0 in /usr/local/lib/python3.6/dist-packages (from -r requirements.txt (line 62)) (19.18.0)\n",
            "Requirement already satisfied: dm-tree==0.1.5 in /usr/local/lib/python3.6/dist-packages (from -r requirements.txt (line 63)) (0.1.5)\n",
            "Requirement already satisfied: docopt==0.6.2 in /usr/local/lib/python3.6/dist-packages (from -r requirements.txt (line 64)) (0.6.2)\n",
            "Requirement already satisfied: docutils==0.16 in /usr/local/lib/python3.6/dist-packages (from -r requirements.txt (line 65)) (0.16)\n",
            "Requirement already satisfied: dopamine-rl==1.0.5 in /usr/local/lib/python3.6/dist-packages (from -r requirements.txt (line 66)) (1.0.5)\n",
            "Requirement already satisfied: earthengine-api==0.1.238 in /usr/local/lib/python3.6/dist-packages (from -r requirements.txt (line 67)) (0.1.238)\n",
            "Requirement already satisfied: easydict==1.9 in /usr/local/lib/python3.6/dist-packages (from -r requirements.txt (line 68)) (1.9)\n",
            "Requirement already satisfied: ecos==2.0.7.post1 in /usr/local/lib/python3.6/dist-packages (from -r requirements.txt (line 69)) (2.0.7.post1)\n",
            "Requirement already satisfied: editdistance==0.5.3 in /usr/local/lib/python3.6/dist-packages (from -r requirements.txt (line 70)) (0.5.3)\n",
            "Requirement already satisfied: en-core-web-sm==2.2.5 in /usr/local/lib/python3.6/dist-packages (from -r requirements.txt (line 71)) (2.2.5)\n",
            "Requirement already satisfied: entrypoints==0.3 in /usr/local/lib/python3.6/dist-packages (from -r requirements.txt (line 72)) (0.3)\n",
            "Requirement already satisfied: ephem==3.7.7.1 in /usr/local/lib/python3.6/dist-packages (from -r requirements.txt (line 73)) (3.7.7.1)\n",
            "Requirement already satisfied: et-xmlfile==1.0.1 in /usr/local/lib/python3.6/dist-packages (from -r requirements.txt (line 74)) (1.0.1)\n",
            "Requirement already satisfied: fa2==0.3.5 in /usr/local/lib/python3.6/dist-packages (from -r requirements.txt (line 75)) (0.3.5)\n",
            "Requirement already satisfied: fancyimpute==0.4.3 in /usr/local/lib/python3.6/dist-packages (from -r requirements.txt (line 76)) (0.4.3)\n",
            "Requirement already satisfied: fastai==1.0.61 in /usr/local/lib/python3.6/dist-packages (from -r requirements.txt (line 77)) (1.0.61)\n",
            "Requirement already satisfied: fastdtw==0.3.4 in /usr/local/lib/python3.6/dist-packages (from -r requirements.txt (line 78)) (0.3.4)\n",
            "Requirement already satisfied: fastprogress==1.0.0 in /usr/local/lib/python3.6/dist-packages (from -r requirements.txt (line 79)) (1.0.0)\n",
            "Requirement already satisfied: fastrlock==0.5 in /usr/local/lib/python3.6/dist-packages (from -r requirements.txt (line 80)) (0.5)\n",
            "Requirement already satisfied: fbprophet==0.7.1 in /usr/local/lib/python3.6/dist-packages (from -r requirements.txt (line 81)) (0.7.1)\n",
            "Requirement already satisfied: feather-format==0.4.1 in /usr/local/lib/python3.6/dist-packages (from -r requirements.txt (line 82)) (0.4.1)\n",
            "Requirement already satisfied: filelock==3.0.12 in /usr/local/lib/python3.6/dist-packages (from -r requirements.txt (line 83)) (3.0.12)\n",
            "Requirement already satisfied: firebase-admin==4.4.0 in /usr/local/lib/python3.6/dist-packages (from -r requirements.txt (line 84)) (4.4.0)\n",
            "Requirement already satisfied: fix-yahoo-finance==0.0.22 in /usr/local/lib/python3.6/dist-packages (from -r requirements.txt (line 85)) (0.0.22)\n",
            "Requirement already satisfied: Flask==1.1.2 in /usr/local/lib/python3.6/dist-packages (from -r requirements.txt (line 86)) (1.1.2)\n",
            "Requirement already satisfied: flatbuffers==1.12 in /usr/local/lib/python3.6/dist-packages (from -r requirements.txt (line 87)) (1.12)\n",
            "Requirement already satisfied: folium==0.8.3 in /usr/local/lib/python3.6/dist-packages (from -r requirements.txt (line 88)) (0.8.3)\n",
            "Requirement already satisfied: future==0.16.0 in /usr/local/lib/python3.6/dist-packages (from -r requirements.txt (line 89)) (0.16.0)\n",
            "Requirement already satisfied: gast==0.3.3 in /usr/local/lib/python3.6/dist-packages (from -r requirements.txt (line 90)) (0.3.3)\n",
            "Requirement already satisfied: GDAL==2.2.2 in /usr/lib/python3/dist-packages (from -r requirements.txt (line 91)) (2.2.2)\n",
            "Requirement already satisfied: gdown==3.6.4 in /usr/local/lib/python3.6/dist-packages (from -r requirements.txt (line 92)) (3.6.4)\n",
            "Requirement already satisfied: gensim==3.6.0 in /usr/local/lib/python3.6/dist-packages (from -r requirements.txt (line 93)) (3.6.0)\n",
            "Requirement already satisfied: geographiclib==1.50 in /usr/local/lib/python3.6/dist-packages (from -r requirements.txt (line 94)) (1.50)\n",
            "Requirement already satisfied: geopy==1.17.0 in /usr/local/lib/python3.6/dist-packages (from -r requirements.txt (line 95)) (1.17.0)\n",
            "Requirement already satisfied: gin-config==0.4.0 in /usr/local/lib/python3.6/dist-packages (from -r requirements.txt (line 96)) (0.4.0)\n",
            "Requirement already satisfied: glob2==0.7 in /usr/local/lib/python3.6/dist-packages (from -r requirements.txt (line 97)) (0.7)\n",
            "Requirement already satisfied: google==2.0.3 in /usr/local/lib/python3.6/dist-packages (from -r requirements.txt (line 98)) (2.0.3)\n",
            "Requirement already satisfied: google-api-core==1.16.0 in /usr/local/lib/python3.6/dist-packages (from -r requirements.txt (line 99)) (1.16.0)\n",
            "Requirement already satisfied: google-api-python-client==1.7.12 in /usr/local/lib/python3.6/dist-packages (from -r requirements.txt (line 100)) (1.7.12)\n",
            "Requirement already satisfied: google-auth==1.25.0 in /usr/local/lib/python3.6/dist-packages (from -r requirements.txt (line 101)) (1.25.0)\n",
            "Requirement already satisfied: google-auth-httplib2==0.0.4 in /usr/local/lib/python3.6/dist-packages (from -r requirements.txt (line 102)) (0.0.4)\n",
            "Requirement already satisfied: google-auth-oauthlib==0.4.2 in /usr/local/lib/python3.6/dist-packages (from -r requirements.txt (line 103)) (0.4.2)\n",
            "Requirement already satisfied: google-cloud-bigquery==1.21.0 in /usr/local/lib/python3.6/dist-packages (from -r requirements.txt (line 104)) (1.21.0)\n",
            "Requirement already satisfied: google-cloud-bigquery-storage==1.1.0 in /usr/local/lib/python3.6/dist-packages (from -r requirements.txt (line 105)) (1.1.0)\n",
            "Requirement already satisfied: google-cloud-core==1.0.3 in /usr/local/lib/python3.6/dist-packages (from -r requirements.txt (line 106)) (1.0.3)\n",
            "Requirement already satisfied: google-cloud-datastore==1.8.0 in /usr/local/lib/python3.6/dist-packages (from -r requirements.txt (line 107)) (1.8.0)\n",
            "Requirement already satisfied: google-cloud-firestore==1.7.0 in /usr/local/lib/python3.6/dist-packages (from -r requirements.txt (line 108)) (1.7.0)\n",
            "Requirement already satisfied: google-cloud-language==1.2.0 in /usr/local/lib/python3.6/dist-packages (from -r requirements.txt (line 109)) (1.2.0)\n",
            "Requirement already satisfied: google-cloud-storage==1.18.1 in /usr/local/lib/python3.6/dist-packages (from -r requirements.txt (line 110)) (1.18.1)\n",
            "Requirement already satisfied: google-cloud-translate==1.5.0 in /usr/local/lib/python3.6/dist-packages (from -r requirements.txt (line 111)) (1.5.0)\n",
            "Requirement already satisfied: google-colab==1.0.0 in /usr/local/lib/python3.6/dist-packages (from -r requirements.txt (line 112)) (1.0.0)\n",
            "Requirement already satisfied: google-pasta==0.2.0 in /usr/local/lib/python3.6/dist-packages (from -r requirements.txt (line 113)) (0.2.0)\n",
            "Requirement already satisfied: google-resumable-media==0.4.1 in /usr/local/lib/python3.6/dist-packages (from -r requirements.txt (line 114)) (0.4.1)\n",
            "Requirement already satisfied: googleapis-common-protos==1.52.0 in /usr/local/lib/python3.6/dist-packages (from -r requirements.txt (line 115)) (1.52.0)\n",
            "Requirement already satisfied: googledrivedownloader==0.4 in /usr/local/lib/python3.6/dist-packages (from -r requirements.txt (line 116)) (0.4)\n",
            "Requirement already satisfied: graphviz==0.10.1 in /usr/local/lib/python3.6/dist-packages (from -r requirements.txt (line 117)) (0.10.1)\n",
            "Requirement already satisfied: grpcio==1.32.0 in /usr/local/lib/python3.6/dist-packages (from -r requirements.txt (line 118)) (1.32.0)\n",
            "Requirement already satisfied: gspread==3.0.1 in /usr/local/lib/python3.6/dist-packages (from -r requirements.txt (line 119)) (3.0.1)\n",
            "Requirement already satisfied: gspread-dataframe==3.0.8 in /usr/local/lib/python3.6/dist-packages (from -r requirements.txt (line 120)) (3.0.8)\n",
            "Requirement already satisfied: gym==0.17.3 in /usr/local/lib/python3.6/dist-packages (from -r requirements.txt (line 121)) (0.17.3)\n",
            "Requirement already satisfied: h5py==2.10.0 in /usr/local/lib/python3.6/dist-packages (from -r requirements.txt (line 122)) (2.10.0)\n",
            "Requirement already satisfied: HeapDict==1.0.1 in /usr/local/lib/python3.6/dist-packages (from -r requirements.txt (line 123)) (1.0.1)\n",
            "Requirement already satisfied: hijri-converter==2.1.1 in /usr/local/lib/python3.6/dist-packages (from -r requirements.txt (line 124)) (2.1.1)\n",
            "Requirement already satisfied: holidays==0.10.5.2 in /usr/local/lib/python3.6/dist-packages (from -r requirements.txt (line 125)) (0.10.5.2)\n",
            "Requirement already satisfied: holoviews==1.13.5 in /usr/local/lib/python3.6/dist-packages (from -r requirements.txt (line 126)) (1.13.5)\n",
            "Requirement already satisfied: html5lib==1.0.1 in /usr/local/lib/python3.6/dist-packages (from -r requirements.txt (line 127)) (1.0.1)\n",
            "Requirement already satisfied: httpimport==0.5.18 in /usr/local/lib/python3.6/dist-packages (from -r requirements.txt (line 128)) (0.5.18)\n",
            "Requirement already satisfied: httplib2==0.17.4 in /usr/local/lib/python3.6/dist-packages (from -r requirements.txt (line 129)) (0.17.4)\n",
            "Requirement already satisfied: httplib2shim==0.0.3 in /usr/local/lib/python3.6/dist-packages (from -r requirements.txt (line 130)) (0.0.3)\n",
            "Requirement already satisfied: humanize==0.5.1 in /usr/local/lib/python3.6/dist-packages (from -r requirements.txt (line 131)) (0.5.1)\n",
            "Requirement already satisfied: hyperopt==0.1.2 in /usr/local/lib/python3.6/dist-packages (from -r requirements.txt (line 132)) (0.1.2)\n",
            "Requirement already satisfied: ideep4py==2.0.0.post3 in /usr/local/lib/python3.6/dist-packages (from -r requirements.txt (line 133)) (2.0.0.post3)\n",
            "Requirement already satisfied: idna==2.10 in /usr/local/lib/python3.6/dist-packages (from -r requirements.txt (line 134)) (2.10)\n",
            "Requirement already satisfied: image==1.5.33 in /usr/local/lib/python3.6/dist-packages (from -r requirements.txt (line 135)) (1.5.33)\n",
            "Requirement already satisfied: imageio==2.4.1 in /usr/local/lib/python3.6/dist-packages (from -r requirements.txt (line 136)) (2.4.1)\n",
            "Requirement already satisfied: imagesize==1.2.0 in /usr/local/lib/python3.6/dist-packages (from -r requirements.txt (line 137)) (1.2.0)\n",
            "Requirement already satisfied: imbalanced-learn==0.4.3 in /usr/local/lib/python3.6/dist-packages (from -r requirements.txt (line 138)) (0.4.3)\n",
            "Requirement already satisfied: imblearn==0.0 in /usr/local/lib/python3.6/dist-packages (from -r requirements.txt (line 139)) (0.0)\n",
            "Requirement already satisfied: imgaug==0.2.9 in /usr/local/lib/python3.6/dist-packages (from -r requirements.txt (line 140)) (0.2.9)\n",
            "Requirement already satisfied: importlib-metadata==3.4.0 in /usr/local/lib/python3.6/dist-packages (from -r requirements.txt (line 141)) (3.4.0)\n",
            "Requirement already satisfied: importlib-resources==5.1.0 in /usr/local/lib/python3.6/dist-packages (from -r requirements.txt (line 142)) (5.1.0)\n",
            "Requirement already satisfied: imutils==0.5.4 in /usr/local/lib/python3.6/dist-packages (from -r requirements.txt (line 143)) (0.5.4)\n",
            "Requirement already satisfied: inflect==2.1.0 in /usr/local/lib/python3.6/dist-packages (from -r requirements.txt (line 144)) (2.1.0)\n",
            "Requirement already satisfied: iniconfig==1.1.1 in /usr/local/lib/python3.6/dist-packages (from -r requirements.txt (line 145)) (1.1.1)\n",
            "Requirement already satisfied: intel-openmp==2021.1.2 in /usr/local/lib/python3.6/dist-packages (from -r requirements.txt (line 146)) (2021.1.2)\n",
            "Requirement already satisfied: intervaltree==2.1.0 in /usr/local/lib/python3.6/dist-packages (from -r requirements.txt (line 147)) (2.1.0)\n",
            "Requirement already satisfied: ipykernel==4.10.1 in /usr/local/lib/python3.6/dist-packages (from -r requirements.txt (line 148)) (4.10.1)\n",
            "Requirement already satisfied: ipython==5.5.0 in /usr/local/lib/python3.6/dist-packages (from -r requirements.txt (line 149)) (5.5.0)\n",
            "Requirement already satisfied: ipython-genutils==0.2.0 in /usr/local/lib/python3.6/dist-packages (from -r requirements.txt (line 150)) (0.2.0)\n",
            "Requirement already satisfied: ipython-sql==0.3.9 in /usr/local/lib/python3.6/dist-packages (from -r requirements.txt (line 151)) (0.3.9)\n",
            "Requirement already satisfied: ipywidgets==7.6.3 in /usr/local/lib/python3.6/dist-packages (from -r requirements.txt (line 152)) (7.6.3)\n",
            "Requirement already satisfied: itsdangerous==1.1.0 in /usr/local/lib/python3.6/dist-packages (from -r requirements.txt (line 153)) (1.1.0)\n",
            "Requirement already satisfied: jax==0.2.9 in /usr/local/lib/python3.6/dist-packages (from -r requirements.txt (line 154)) (0.2.9)\n",
            "Requirement already satisfied: jaxlib==0.1.60+cuda101 in /usr/local/lib/python3.6/dist-packages (from -r requirements.txt (line 155)) (0.1.60+cuda101)\n",
            "Requirement already satisfied: jdcal==1.4.1 in /usr/local/lib/python3.6/dist-packages (from -r requirements.txt (line 156)) (1.4.1)\n",
            "Requirement already satisfied: jedi==0.18.0 in /usr/local/lib/python3.6/dist-packages (from -r requirements.txt (line 157)) (0.18.0)\n",
            "Requirement already satisfied: jieba==0.42.1 in /usr/local/lib/python3.6/dist-packages (from -r requirements.txt (line 158)) (0.42.1)\n",
            "Requirement already satisfied: Jinja2==2.11.3 in /usr/local/lib/python3.6/dist-packages (from -r requirements.txt (line 159)) (2.11.3)\n",
            "Requirement already satisfied: joblib==1.0.0 in /usr/local/lib/python3.6/dist-packages (from -r requirements.txt (line 160)) (1.0.0)\n",
            "Requirement already satisfied: jpeg4py==0.1.4 in /usr/local/lib/python3.6/dist-packages (from -r requirements.txt (line 161)) (0.1.4)\n",
            "Requirement already satisfied: jsonschema==2.6.0 in /usr/local/lib/python3.6/dist-packages (from -r requirements.txt (line 162)) (2.6.0)\n",
            "Requirement already satisfied: jupyter==1.0.0 in /usr/local/lib/python3.6/dist-packages (from -r requirements.txt (line 163)) (1.0.0)\n",
            "Requirement already satisfied: jupyter-client==5.3.5 in /usr/local/lib/python3.6/dist-packages (from -r requirements.txt (line 164)) (5.3.5)\n",
            "Requirement already satisfied: jupyter-console==5.2.0 in /usr/local/lib/python3.6/dist-packages (from -r requirements.txt (line 165)) (5.2.0)\n",
            "Requirement already satisfied: jupyter-core==4.7.1 in /usr/local/lib/python3.6/dist-packages (from -r requirements.txt (line 166)) (4.7.1)\n",
            "Requirement already satisfied: jupyterlab-pygments==0.1.2 in /usr/local/lib/python3.6/dist-packages (from -r requirements.txt (line 167)) (0.1.2)\n",
            "Requirement already satisfied: jupyterlab-widgets==1.0.0 in /usr/local/lib/python3.6/dist-packages (from -r requirements.txt (line 168)) (1.0.0)\n",
            "Requirement already satisfied: kaggle==1.5.10 in /usr/local/lib/python3.6/dist-packages (from -r requirements.txt (line 169)) (1.5.10)\n",
            "Requirement already satisfied: kapre==0.1.3.1 in /usr/local/lib/python3.6/dist-packages (from -r requirements.txt (line 170)) (0.1.3.1)\n",
            "Requirement already satisfied: Keras==2.4.3 in /usr/local/lib/python3.6/dist-packages (from -r requirements.txt (line 171)) (2.4.3)\n",
            "Requirement already satisfied: Keras-Preprocessing==1.1.2 in /usr/local/lib/python3.6/dist-packages (from -r requirements.txt (line 172)) (1.1.2)\n",
            "Requirement already satisfied: keras-vis==0.4.1 in /usr/local/lib/python3.6/dist-packages (from -r requirements.txt (line 173)) (0.4.1)\n",
            "Requirement already satisfied: kiwisolver==1.3.1 in /usr/local/lib/python3.6/dist-packages (from -r requirements.txt (line 174)) (1.3.1)\n",
            "Requirement already satisfied: knnimpute==0.1.0 in /usr/local/lib/python3.6/dist-packages (from -r requirements.txt (line 175)) (0.1.0)\n",
            "Requirement already satisfied: korean-lunar-calendar==0.2.1 in /usr/local/lib/python3.6/dist-packages (from -r requirements.txt (line 176)) (0.2.1)\n",
            "Requirement already satisfied: librosa==0.8.0 in /usr/local/lib/python3.6/dist-packages (from -r requirements.txt (line 177)) (0.8.0)\n",
            "Requirement already satisfied: lightgbm==2.2.3 in /usr/local/lib/python3.6/dist-packages (from -r requirements.txt (line 178)) (2.2.3)\n",
            "Requirement already satisfied: llvmlite==0.34.0 in /usr/local/lib/python3.6/dist-packages (from -r requirements.txt (line 179)) (0.34.0)\n",
            "Requirement already satisfied: lmdb==0.99 in /usr/local/lib/python3.6/dist-packages (from -r requirements.txt (line 180)) (0.99)\n",
            "Requirement already satisfied: lucid==0.3.8 in /usr/local/lib/python3.6/dist-packages (from -r requirements.txt (line 181)) (0.3.8)\n",
            "Requirement already satisfied: LunarCalendar==0.0.9 in /usr/local/lib/python3.6/dist-packages (from -r requirements.txt (line 182)) (0.0.9)\n",
            "Requirement already satisfied: lxml==4.2.6 in /usr/local/lib/python3.6/dist-packages (from -r requirements.txt (line 183)) (4.2.6)\n",
            "Requirement already satisfied: Markdown==3.3.3 in /usr/local/lib/python3.6/dist-packages (from -r requirements.txt (line 184)) (3.3.3)\n",
            "Requirement already satisfied: MarkupSafe==1.1.1 in /usr/local/lib/python3.6/dist-packages (from -r requirements.txt (line 185)) (1.1.1)\n",
            "Requirement already satisfied: matplotlib==3.2.2 in /usr/local/lib/python3.6/dist-packages (from -r requirements.txt (line 186)) (3.2.2)\n",
            "Requirement already satisfied: matplotlib-venn==0.11.6 in /usr/local/lib/python3.6/dist-packages (from -r requirements.txt (line 187)) (0.11.6)\n",
            "Requirement already satisfied: missingno==0.4.2 in /usr/local/lib/python3.6/dist-packages (from -r requirements.txt (line 188)) (0.4.2)\n",
            "Requirement already satisfied: mistune==0.8.4 in /usr/local/lib/python3.6/dist-packages (from -r requirements.txt (line 189)) (0.8.4)\n",
            "Requirement already satisfied: mizani==0.6.0 in /usr/local/lib/python3.6/dist-packages (from -r requirements.txt (line 190)) (0.6.0)\n",
            "Requirement already satisfied: mkl==2019.0 in /usr/local/lib/python3.6/dist-packages (from -r requirements.txt (line 191)) (2019.0)\n",
            "Requirement already satisfied: mlens==0.2.3 in /usr/local/lib/python3.6/dist-packages (from -r requirements.txt (line 192)) (0.2.3)\n",
            "Requirement already satisfied: mlxtend==0.14.0 in /usr/local/lib/python3.6/dist-packages (from -r requirements.txt (line 193)) (0.14.0)\n",
            "Requirement already satisfied: more-itertools==8.7.0 in /usr/local/lib/python3.6/dist-packages (from -r requirements.txt (line 194)) (8.7.0)\n",
            "Requirement already satisfied: moviepy==0.2.3.5 in /usr/local/lib/python3.6/dist-packages (from -r requirements.txt (line 195)) (0.2.3.5)\n",
            "Requirement already satisfied: mpmath==1.1.0 in /usr/local/lib/python3.6/dist-packages (from -r requirements.txt (line 196)) (1.1.0)\n",
            "Requirement already satisfied: msgpack==1.0.2 in /usr/local/lib/python3.6/dist-packages (from -r requirements.txt (line 197)) (1.0.2)\n",
            "Requirement already satisfied: multiprocess==0.70.11.1 in /usr/local/lib/python3.6/dist-packages (from -r requirements.txt (line 198)) (0.70.11.1)\n",
            "Requirement already satisfied: multitasking==0.0.9 in /usr/local/lib/python3.6/dist-packages (from -r requirements.txt (line 199)) (0.0.9)\n",
            "Requirement already satisfied: murmurhash==1.0.5 in /usr/local/lib/python3.6/dist-packages (from -r requirements.txt (line 200)) (1.0.5)\n",
            "Requirement already satisfied: music21==5.5.0 in /usr/local/lib/python3.6/dist-packages (from -r requirements.txt (line 201)) (5.5.0)\n",
            "Requirement already satisfied: natsort==5.5.0 in /usr/local/lib/python3.6/dist-packages (from -r requirements.txt (line 202)) (5.5.0)\n",
            "Requirement already satisfied: nbclient==0.5.2 in /usr/local/lib/python3.6/dist-packages (from -r requirements.txt (line 203)) (0.5.2)\n",
            "Requirement already satisfied: nbconvert==5.6.1 in /usr/local/lib/python3.6/dist-packages (from -r requirements.txt (line 204)) (5.6.1)\n",
            "Requirement already satisfied: nbformat==5.1.2 in /usr/local/lib/python3.6/dist-packages (from -r requirements.txt (line 205)) (5.1.2)\n",
            "Requirement already satisfied: nest-asyncio==1.5.1 in /usr/local/lib/python3.6/dist-packages (from -r requirements.txt (line 206)) (1.5.1)\n",
            "Requirement already satisfied: networkx==2.5 in /usr/local/lib/python3.6/dist-packages (from -r requirements.txt (line 207)) (2.5)\n",
            "Requirement already satisfied: nibabel==3.0.2 in /usr/local/lib/python3.6/dist-packages (from -r requirements.txt (line 208)) (3.0.2)\n",
            "Requirement already satisfied: nltk==3.2.5 in /usr/local/lib/python3.6/dist-packages (from -r requirements.txt (line 209)) (3.2.5)\n",
            "Requirement already satisfied: notebook==5.3.1 in /usr/local/lib/python3.6/dist-packages (from -r requirements.txt (line 210)) (5.3.1)\n",
            "Requirement already satisfied: np-utils==0.5.12.1 in /usr/local/lib/python3.6/dist-packages (from -r requirements.txt (line 211)) (0.5.12.1)\n",
            "Requirement already satisfied: numba==0.51.2 in /usr/local/lib/python3.6/dist-packages (from -r requirements.txt (line 212)) (0.51.2)\n",
            "Requirement already satisfied: numexpr==2.7.2 in /usr/local/lib/python3.6/dist-packages (from -r requirements.txt (line 213)) (2.7.2)\n",
            "Requirement already satisfied: numpy==1.19.5 in /usr/local/lib/python3.6/dist-packages (from -r requirements.txt (line 214)) (1.19.5)\n",
            "Requirement already satisfied: nvidia-ml-py3==7.352.0 in /usr/local/lib/python3.6/dist-packages (from -r requirements.txt (line 215)) (7.352.0)\n",
            "Requirement already satisfied: oauth2client==4.1.3 in /usr/local/lib/python3.6/dist-packages (from -r requirements.txt (line 216)) (4.1.3)\n",
            "Requirement already satisfied: oauthlib==3.1.0 in /usr/local/lib/python3.6/dist-packages (from -r requirements.txt (line 217)) (3.1.0)\n",
            "Requirement already satisfied: okgrade==0.4.3 in /usr/local/lib/python3.6/dist-packages (from -r requirements.txt (line 218)) (0.4.3)\n",
            "Requirement already satisfied: opencv-contrib-python==4.1.2.30 in /usr/local/lib/python3.6/dist-packages (from -r requirements.txt (line 219)) (4.1.2.30)\n",
            "Requirement already satisfied: opencv-python==4.1.2.30 in /usr/local/lib/python3.6/dist-packages (from -r requirements.txt (line 220)) (4.1.2.30)\n",
            "Requirement already satisfied: openpyxl==2.5.9 in /usr/local/lib/python3.6/dist-packages (from -r requirements.txt (line 221)) (2.5.9)\n",
            "Requirement already satisfied: opt-einsum==3.3.0 in /usr/local/lib/python3.6/dist-packages (from -r requirements.txt (line 222)) (3.3.0)\n",
            "Requirement already satisfied: osqp==0.6.2.post0 in /usr/local/lib/python3.6/dist-packages (from -r requirements.txt (line 223)) (0.6.2.post0)\n",
            "Requirement already satisfied: packaging==20.9 in /usr/local/lib/python3.6/dist-packages (from -r requirements.txt (line 224)) (20.9)\n",
            "Requirement already satisfied: palettable==3.3.0 in /usr/local/lib/python3.6/dist-packages (from -r requirements.txt (line 225)) (3.3.0)\n",
            "Requirement already satisfied: pandas==1.1.5 in /usr/local/lib/python3.6/dist-packages (from -r requirements.txt (line 226)) (1.1.5)\n",
            "Requirement already satisfied: pandas-datareader==0.9.0 in /usr/local/lib/python3.6/dist-packages (from -r requirements.txt (line 227)) (0.9.0)\n",
            "Requirement already satisfied: pandas-gbq==0.13.3 in /usr/local/lib/python3.6/dist-packages (from -r requirements.txt (line 228)) (0.13.3)\n",
            "Requirement already satisfied: pandas-profiling==1.4.1 in /usr/local/lib/python3.6/dist-packages (from -r requirements.txt (line 229)) (1.4.1)\n",
            "Requirement already satisfied: pandocfilters==1.4.3 in /usr/local/lib/python3.6/dist-packages (from -r requirements.txt (line 230)) (1.4.3)\n",
            "Requirement already satisfied: panel==0.9.7 in /usr/local/lib/python3.6/dist-packages (from -r requirements.txt (line 231)) (0.9.7)\n",
            "Requirement already satisfied: param==1.10.1 in /usr/local/lib/python3.6/dist-packages (from -r requirements.txt (line 232)) (1.10.1)\n",
            "Requirement already satisfied: parso==0.8.1 in /usr/local/lib/python3.6/dist-packages (from -r requirements.txt (line 233)) (0.8.1)\n",
            "Requirement already satisfied: pathlib==1.0.1 in /usr/local/lib/python3.6/dist-packages (from -r requirements.txt (line 234)) (1.0.1)\n",
            "Requirement already satisfied: patsy==0.5.1 in /usr/local/lib/python3.6/dist-packages (from -r requirements.txt (line 235)) (0.5.1)\n",
            "Requirement already satisfied: pexpect==4.8.0 in /usr/local/lib/python3.6/dist-packages (from -r requirements.txt (line 236)) (4.8.0)\n",
            "Requirement already satisfied: pickleshare==0.7.5 in /usr/local/lib/python3.6/dist-packages (from -r requirements.txt (line 237)) (0.7.5)\n",
            "Requirement already satisfied: Pillow==7.0.0 in /usr/local/lib/python3.6/dist-packages (from -r requirements.txt (line 238)) (7.0.0)\n",
            "Requirement already satisfied: pip-tools==4.5.1 in /usr/local/lib/python3.6/dist-packages (from -r requirements.txt (line 239)) (4.5.1)\n",
            "Requirement already satisfied: plac==1.1.3 in /usr/local/lib/python3.6/dist-packages (from -r requirements.txt (line 240)) (1.1.3)\n",
            "Requirement already satisfied: plotly==4.4.1 in /usr/local/lib/python3.6/dist-packages (from -r requirements.txt (line 241)) (4.4.1)\n",
            "Requirement already satisfied: plotnine==0.6.0 in /usr/local/lib/python3.6/dist-packages (from -r requirements.txt (line 242)) (0.6.0)\n",
            "Requirement already satisfied: pluggy==0.7.1 in /usr/local/lib/python3.6/dist-packages (from -r requirements.txt (line 243)) (0.7.1)\n",
            "Requirement already satisfied: pooch==1.3.0 in /usr/local/lib/python3.6/dist-packages (from -r requirements.txt (line 244)) (1.3.0)\n",
            "Requirement already satisfied: portpicker==1.3.1 in /usr/local/lib/python3.6/dist-packages (from -r requirements.txt (line 245)) (1.3.1)\n",
            "Requirement already satisfied: prefetch-generator==1.0.1 in /usr/local/lib/python3.6/dist-packages (from -r requirements.txt (line 246)) (1.0.1)\n",
            "Requirement already satisfied: preshed==3.0.5 in /usr/local/lib/python3.6/dist-packages (from -r requirements.txt (line 247)) (3.0.5)\n",
            "Requirement already satisfied: prettytable==2.0.0 in /usr/local/lib/python3.6/dist-packages (from -r requirements.txt (line 248)) (2.0.0)\n",
            "Requirement already satisfied: progressbar2==3.38.0 in /usr/local/lib/python3.6/dist-packages (from -r requirements.txt (line 249)) (3.38.0)\n",
            "Requirement already satisfied: prometheus-client==0.9.0 in /usr/local/lib/python3.6/dist-packages (from -r requirements.txt (line 250)) (0.9.0)\n",
            "Requirement already satisfied: promise==2.3 in /usr/local/lib/python3.6/dist-packages (from -r requirements.txt (line 251)) (2.3)\n",
            "Requirement already satisfied: prompt-toolkit==1.0.18 in /usr/local/lib/python3.6/dist-packages (from -r requirements.txt (line 252)) (1.0.18)\n",
            "Requirement already satisfied: protobuf==3.12.4 in /usr/local/lib/python3.6/dist-packages (from -r requirements.txt (line 253)) (3.12.4)\n",
            "Requirement already satisfied: psutil==5.4.8 in /usr/local/lib/python3.6/dist-packages (from -r requirements.txt (line 254)) (5.4.8)\n",
            "Requirement already satisfied: psycopg2==2.7.6.1 in /usr/local/lib/python3.6/dist-packages (from -r requirements.txt (line 255)) (2.7.6.1)\n",
            "Requirement already satisfied: ptyprocess==0.7.0 in /usr/local/lib/python3.6/dist-packages (from -r requirements.txt (line 256)) (0.7.0)\n",
            "Requirement already satisfied: py==1.10.0 in /usr/local/lib/python3.6/dist-packages (from -r requirements.txt (line 257)) (1.10.0)\n",
            "Requirement already satisfied: pyarrow==0.14.1 in /usr/local/lib/python3.6/dist-packages (from -r requirements.txt (line 258)) (0.14.1)\n",
            "Requirement already satisfied: pyasn1==0.4.8 in /usr/local/lib/python3.6/dist-packages (from -r requirements.txt (line 259)) (0.4.8)\n",
            "Requirement already satisfied: pyasn1-modules==0.2.8 in /usr/local/lib/python3.6/dist-packages (from -r requirements.txt (line 260)) (0.2.8)\n",
            "Requirement already satisfied: pycocotools==2.0.2 in /usr/local/lib/python3.6/dist-packages (from -r requirements.txt (line 261)) (2.0.2)\n",
            "Requirement already satisfied: pycparser==2.20 in /usr/local/lib/python3.6/dist-packages (from -r requirements.txt (line 262)) (2.20)\n",
            "Requirement already satisfied: pyct==0.4.8 in /usr/local/lib/python3.6/dist-packages (from -r requirements.txt (line 263)) (0.4.8)\n",
            "Requirement already satisfied: pydata-google-auth==1.1.0 in /usr/local/lib/python3.6/dist-packages (from -r requirements.txt (line 264)) (1.1.0)\n",
            "Requirement already satisfied: pydot==1.3.0 in /usr/local/lib/python3.6/dist-packages (from -r requirements.txt (line 265)) (1.3.0)\n",
            "Requirement already satisfied: pydot-ng==2.0.0 in /usr/local/lib/python3.6/dist-packages (from -r requirements.txt (line 266)) (2.0.0)\n",
            "Requirement already satisfied: pydotplus==2.0.2 in /usr/local/lib/python3.6/dist-packages (from -r requirements.txt (line 267)) (2.0.2)\n",
            "Requirement already satisfied: PyDrive==1.3.1 in /usr/local/lib/python3.6/dist-packages (from -r requirements.txt (line 268)) (1.3.1)\n",
            "Requirement already satisfied: pyemd==0.5.1 in /usr/local/lib/python3.6/dist-packages (from -r requirements.txt (line 269)) (0.5.1)\n",
            "Requirement already satisfied: pyglet==1.5.0 in /usr/local/lib/python3.6/dist-packages (from -r requirements.txt (line 270)) (1.5.0)\n",
            "Requirement already satisfied: Pygments==2.6.1 in /usr/local/lib/python3.6/dist-packages (from -r requirements.txt (line 271)) (2.6.1)\n",
            "Requirement already satisfied: pygobject==3.26.1 in /usr/lib/python3/dist-packages (from -r requirements.txt (line 272)) (3.26.1)\n",
            "Requirement already satisfied: pymc3==3.7 in /usr/local/lib/python3.6/dist-packages (from -r requirements.txt (line 273)) (3.7)\n",
            "Requirement already satisfied: PyMeeus==0.3.7 in /usr/local/lib/python3.6/dist-packages (from -r requirements.txt (line 274)) (0.3.7)\n",
            "Requirement already satisfied: pymongo==3.11.3 in /usr/local/lib/python3.6/dist-packages (from -r requirements.txt (line 275)) (3.11.3)\n",
            "Requirement already satisfied: pymystem3==0.2.0 in /usr/local/lib/python3.6/dist-packages (from -r requirements.txt (line 276)) (0.2.0)\n",
            "Requirement already satisfied: pynndescent==0.5.1 in /usr/local/lib/python3.6/dist-packages (from -r requirements.txt (line 277)) (0.5.1)\n",
            "Requirement already satisfied: PyOpenGL==3.1.5 in /usr/local/lib/python3.6/dist-packages (from -r requirements.txt (line 278)) (3.1.5)\n",
            "Requirement already satisfied: pyparsing==2.4.7 in /usr/local/lib/python3.6/dist-packages (from -r requirements.txt (line 279)) (2.4.7)\n",
            "Requirement already satisfied: pyrsistent==0.17.3 in /usr/local/lib/python3.6/dist-packages (from -r requirements.txt (line 280)) (0.17.3)\n",
            "Requirement already satisfied: pysndfile==1.3.8 in /usr/local/lib/python3.6/dist-packages (from -r requirements.txt (line 281)) (1.3.8)\n",
            "Requirement already satisfied: PySocks==1.7.1 in /usr/local/lib/python3.6/dist-packages (from -r requirements.txt (line 282)) (1.7.1)\n",
            "Requirement already satisfied: pystan==2.19.1.1 in /usr/local/lib/python3.6/dist-packages (from -r requirements.txt (line 283)) (2.19.1.1)\n",
            "Requirement already satisfied: pytest==3.6.4 in /usr/local/lib/python3.6/dist-packages (from -r requirements.txt (line 284)) (3.6.4)\n",
            "Requirement already satisfied: python-apt==1.6.5+ubuntu0.5 in /usr/lib/python3/dist-packages (from -r requirements.txt (line 285)) (1.6.5+ubuntu0.5)\n",
            "Requirement already satisfied: python-chess==0.23.11 in /usr/local/lib/python3.6/dist-packages (from -r requirements.txt (line 286)) (0.23.11)\n",
            "Requirement already satisfied: python-dateutil==2.8.1 in /usr/local/lib/python3.6/dist-packages (from -r requirements.txt (line 287)) (2.8.1)\n",
            "Requirement already satisfied: python-louvain==0.15 in /usr/local/lib/python3.6/dist-packages (from -r requirements.txt (line 288)) (0.15)\n",
            "Requirement already satisfied: python-slugify==4.0.1 in /usr/local/lib/python3.6/dist-packages (from -r requirements.txt (line 289)) (4.0.1)\n",
            "Requirement already satisfied: python-utils==2.5.6 in /usr/local/lib/python3.6/dist-packages (from -r requirements.txt (line 290)) (2.5.6)\n",
            "Requirement already satisfied: pytz==2018.9 in /usr/local/lib/python3.6/dist-packages (from -r requirements.txt (line 291)) (2018.9)\n",
            "Requirement already satisfied: pyviz-comms==2.0.1 in /usr/local/lib/python3.6/dist-packages (from -r requirements.txt (line 292)) (2.0.1)\n",
            "Requirement already satisfied: PyWavelets==1.1.1 in /usr/local/lib/python3.6/dist-packages (from -r requirements.txt (line 293)) (1.1.1)\n",
            "Requirement already satisfied: PyYAML==3.13 in /usr/local/lib/python3.6/dist-packages (from -r requirements.txt (line 294)) (3.13)\n",
            "Requirement already satisfied: pyzmq==22.0.2 in /usr/local/lib/python3.6/dist-packages (from -r requirements.txt (line 295)) (22.0.2)\n",
            "Requirement already satisfied: qdldl==0.1.5.post0 in /usr/local/lib/python3.6/dist-packages (from -r requirements.txt (line 296)) (0.1.5.post0)\n",
            "Requirement already satisfied: qtconsole==5.0.2 in /usr/local/lib/python3.6/dist-packages (from -r requirements.txt (line 297)) (5.0.2)\n",
            "Requirement already satisfied: QtPy==1.9.0 in /usr/local/lib/python3.6/dist-packages (from -r requirements.txt (line 298)) (1.9.0)\n",
            "Requirement already satisfied: regex==2019.12.20 in /usr/local/lib/python3.6/dist-packages (from -r requirements.txt (line 299)) (2019.12.20)\n",
            "Requirement already satisfied: requests==2.23.0 in /usr/local/lib/python3.6/dist-packages (from -r requirements.txt (line 300)) (2.23.0)\n",
            "Requirement already satisfied: requests-oauthlib==1.3.0 in /usr/local/lib/python3.6/dist-packages (from -r requirements.txt (line 301)) (1.3.0)\n",
            "Requirement already satisfied: resampy==0.2.2 in /usr/local/lib/python3.6/dist-packages (from -r requirements.txt (line 302)) (0.2.2)\n",
            "Requirement already satisfied: retrying==1.3.3 in /usr/local/lib/python3.6/dist-packages (from -r requirements.txt (line 303)) (1.3.3)\n",
            "Requirement already satisfied: rpy2==3.2.7 in /usr/local/lib/python3.6/dist-packages (from -r requirements.txt (line 304)) (3.2.7)\n",
            "Requirement already satisfied: rsa==4.7 in /usr/local/lib/python3.6/dist-packages (from -r requirements.txt (line 305)) (4.7)\n",
            "Requirement already satisfied: scikit-image==0.16.2 in /usr/local/lib/python3.6/dist-packages (from -r requirements.txt (line 306)) (0.16.2)\n",
            "Requirement already satisfied: scikit-learn==0.22.2.post1 in /usr/local/lib/python3.6/dist-packages (from -r requirements.txt (line 307)) (0.22.2.post1)\n",
            "Requirement already satisfied: scipy==1.4.1 in /usr/local/lib/python3.6/dist-packages (from -r requirements.txt (line 308)) (1.4.1)\n",
            "Requirement already satisfied: screen-resolution-extra==0.0.0 in /usr/lib/python3/dist-packages (from -r requirements.txt (line 309)) (0.0.0)\n",
            "Requirement already satisfied: scs==2.1.2 in /usr/local/lib/python3.6/dist-packages (from -r requirements.txt (line 310)) (2.1.2)\n",
            "Requirement already satisfied: seaborn==0.11.1 in /usr/local/lib/python3.6/dist-packages (from -r requirements.txt (line 311)) (0.11.1)\n",
            "Requirement already satisfied: Send2Trash==1.5.0 in /usr/local/lib/python3.6/dist-packages (from -r requirements.txt (line 312)) (1.5.0)\n",
            "Requirement already satisfied: setuptools-git==1.2 in /usr/local/lib/python3.6/dist-packages (from -r requirements.txt (line 313)) (1.2)\n",
            "Requirement already satisfied: Shapely==1.7.1 in /usr/local/lib/python3.6/dist-packages (from -r requirements.txt (line 314)) (1.7.1)\n",
            "Requirement already satisfied: simplegeneric==0.8.1 in /usr/local/lib/python3.6/dist-packages (from -r requirements.txt (line 315)) (0.8.1)\n",
            "Requirement already satisfied: six==1.15.0 in /usr/local/lib/python3.6/dist-packages (from -r requirements.txt (line 316)) (1.15.0)\n",
            "Requirement already satisfied: sklearn==0.0 in /usr/local/lib/python3.6/dist-packages (from -r requirements.txt (line 317)) (0.0)\n",
            "Requirement already satisfied: sklearn-pandas==1.8.0 in /usr/local/lib/python3.6/dist-packages (from -r requirements.txt (line 318)) (1.8.0)\n",
            "Requirement already satisfied: smart-open==4.1.2 in /usr/local/lib/python3.6/dist-packages (from -r requirements.txt (line 319)) (4.1.2)\n",
            "Requirement already satisfied: snowballstemmer==2.1.0 in /usr/local/lib/python3.6/dist-packages (from -r requirements.txt (line 320)) (2.1.0)\n",
            "Requirement already satisfied: sortedcontainers==2.3.0 in /usr/local/lib/python3.6/dist-packages (from -r requirements.txt (line 321)) (2.3.0)\n",
            "Requirement already satisfied: SoundFile==0.10.3.post1 in /usr/local/lib/python3.6/dist-packages (from -r requirements.txt (line 322)) (0.10.3.post1)\n",
            "Requirement already satisfied: spacy==2.2.4 in /usr/local/lib/python3.6/dist-packages (from -r requirements.txt (line 323)) (2.2.4)\n",
            "Requirement already satisfied: Sphinx==1.8.5 in /usr/local/lib/python3.6/dist-packages (from -r requirements.txt (line 324)) (1.8.5)\n",
            "Requirement already satisfied: sphinxcontrib-serializinghtml==1.1.4 in /usr/local/lib/python3.6/dist-packages (from -r requirements.txt (line 325)) (1.1.4)\n",
            "Requirement already satisfied: sphinxcontrib-websupport==1.2.4 in /usr/local/lib/python3.6/dist-packages (from -r requirements.txt (line 326)) (1.2.4)\n",
            "Requirement already satisfied: SQLAlchemy==1.3.23 in /usr/local/lib/python3.6/dist-packages (from -r requirements.txt (line 327)) (1.3.23)\n",
            "Requirement already satisfied: sqlparse==0.4.1 in /usr/local/lib/python3.6/dist-packages (from -r requirements.txt (line 328)) (0.4.1)\n",
            "Requirement already satisfied: srsly==1.0.5 in /usr/local/lib/python3.6/dist-packages (from -r requirements.txt (line 329)) (1.0.5)\n",
            "Requirement already satisfied: statsmodels==0.10.2 in /usr/local/lib/python3.6/dist-packages (from -r requirements.txt (line 330)) (0.10.2)\n",
            "Requirement already satisfied: sympy==1.1.1 in /usr/local/lib/python3.6/dist-packages (from -r requirements.txt (line 331)) (1.1.1)\n",
            "Requirement already satisfied: tables==3.4.4 in /usr/local/lib/python3.6/dist-packages (from -r requirements.txt (line 332)) (3.4.4)\n",
            "Requirement already satisfied: tabulate==0.8.7 in /usr/local/lib/python3.6/dist-packages (from -r requirements.txt (line 333)) (0.8.7)\n",
            "Requirement already satisfied: tblib==1.7.0 in /usr/local/lib/python3.6/dist-packages (from -r requirements.txt (line 334)) (1.7.0)\n",
            "Requirement already satisfied: tensorboard==2.4.1 in /usr/local/lib/python3.6/dist-packages (from -r requirements.txt (line 335)) (2.4.1)\n",
            "Requirement already satisfied: tensorboard-plugin-wit==1.8.0 in /usr/local/lib/python3.6/dist-packages (from -r requirements.txt (line 336)) (1.8.0)\n",
            "Requirement already satisfied: tensorflow==2.4.1 in /usr/local/lib/python3.6/dist-packages (from -r requirements.txt (line 337)) (2.4.1)\n",
            "Requirement already satisfied: tensorflow-datasets==4.0.1 in /usr/local/lib/python3.6/dist-packages (from -r requirements.txt (line 338)) (4.0.1)\n",
            "Requirement already satisfied: tensorflow-estimator==2.4.0 in /usr/local/lib/python3.6/dist-packages (from -r requirements.txt (line 339)) (2.4.0)\n",
            "Requirement already satisfied: tensorflow-gcs-config==2.4.0 in /usr/local/lib/python3.6/dist-packages (from -r requirements.txt (line 340)) (2.4.0)\n",
            "Requirement already satisfied: tensorflow-hub==0.11.0 in /usr/local/lib/python3.6/dist-packages (from -r requirements.txt (line 341)) (0.11.0)\n",
            "Requirement already satisfied: tensorflow-metadata==0.27.0 in /usr/local/lib/python3.6/dist-packages (from -r requirements.txt (line 342)) (0.27.0)\n",
            "Requirement already satisfied: tensorflow-probability==0.12.1 in /usr/local/lib/python3.6/dist-packages (from -r requirements.txt (line 343)) (0.12.1)\n",
            "Requirement already satisfied: termcolor==1.1.0 in /usr/local/lib/python3.6/dist-packages (from -r requirements.txt (line 344)) (1.1.0)\n",
            "Requirement already satisfied: terminado==0.9.2 in /usr/local/lib/python3.6/dist-packages (from -r requirements.txt (line 345)) (0.9.2)\n",
            "Requirement already satisfied: testpath==0.4.4 in /usr/local/lib/python3.6/dist-packages (from -r requirements.txt (line 346)) (0.4.4)\n",
            "Requirement already satisfied: text-unidecode==1.3 in /usr/local/lib/python3.6/dist-packages (from -r requirements.txt (line 347)) (1.3)\n",
            "Requirement already satisfied: textblob==0.15.3 in /usr/local/lib/python3.6/dist-packages (from -r requirements.txt (line 348)) (0.15.3)\n",
            "Requirement already satisfied: textgenrnn==1.4.1 in /usr/local/lib/python3.6/dist-packages (from -r requirements.txt (line 349)) (1.4.1)\n",
            "Requirement already satisfied: Theano==1.0.5 in /usr/local/lib/python3.6/dist-packages (from -r requirements.txt (line 350)) (1.0.5)\n",
            "Requirement already satisfied: thinc==7.4.0 in /usr/local/lib/python3.6/dist-packages (from -r requirements.txt (line 351)) (7.4.0)\n",
            "Requirement already satisfied: tifffile==2020.9.3 in /usr/local/lib/python3.6/dist-packages (from -r requirements.txt (line 352)) (2020.9.3)\n",
            "Requirement already satisfied: toml==0.10.2 in /usr/local/lib/python3.6/dist-packages (from -r requirements.txt (line 353)) (0.10.2)\n",
            "Requirement already satisfied: toolz==0.11.1 in /usr/local/lib/python3.6/dist-packages (from -r requirements.txt (line 354)) (0.11.1)\n",
            "Requirement already satisfied: torch==1.7.0+cu101 in /usr/local/lib/python3.6/dist-packages (from -r requirements.txt (line 355)) (1.7.0+cu101)\n",
            "Requirement already satisfied: torchsummary==1.5.1 in /usr/local/lib/python3.6/dist-packages (from -r requirements.txt (line 356)) (1.5.1)\n",
            "Requirement already satisfied: torchtext==0.3.1 in /usr/local/lib/python3.6/dist-packages (from -r requirements.txt (line 357)) (0.3.1)\n",
            "Requirement already satisfied: torchvision==0.8.1+cu101 in /usr/local/lib/python3.6/dist-packages (from -r requirements.txt (line 358)) (0.8.1+cu101)\n",
            "Requirement already satisfied: tornado==5.1.1 in /usr/local/lib/python3.6/dist-packages (from -r requirements.txt (line 359)) (5.1.1)\n",
            "Requirement already satisfied: tqdm==4.41.1 in /usr/local/lib/python3.6/dist-packages (from -r requirements.txt (line 360)) (4.41.1)\n",
            "Requirement already satisfied: traitlets==4.3.3 in /usr/local/lib/python3.6/dist-packages (from -r requirements.txt (line 361)) (4.3.3)\n",
            "Requirement already satisfied: tweepy==3.6.0 in /usr/local/lib/python3.6/dist-packages (from -r requirements.txt (line 362)) (3.6.0)\n",
            "Requirement already satisfied: typeguard==2.7.1 in /usr/local/lib/python3.6/dist-packages (from -r requirements.txt (line 363)) (2.7.1)\n",
            "Requirement already satisfied: typing-extensions==3.7.4.3 in /usr/local/lib/python3.6/dist-packages (from -r requirements.txt (line 364)) (3.7.4.3)\n",
            "Requirement already satisfied: tzlocal==1.5.1 in /usr/local/lib/python3.6/dist-packages (from -r requirements.txt (line 365)) (1.5.1)\n",
            "Requirement already satisfied: umap-learn==0.5.0 in /usr/local/lib/python3.6/dist-packages (from -r requirements.txt (line 366)) (0.5.0)\n",
            "Requirement already satisfied: uritemplate==3.0.1 in /usr/local/lib/python3.6/dist-packages (from -r requirements.txt (line 367)) (3.0.1)\n",
            "Requirement already satisfied: urllib3==1.24.3 in /usr/local/lib/python3.6/dist-packages (from -r requirements.txt (line 368)) (1.24.3)\n",
            "Requirement already satisfied: vega-datasets==0.9.0 in /usr/local/lib/python3.6/dist-packages (from -r requirements.txt (line 369)) (0.9.0)\n",
            "Requirement already satisfied: virtualenv==20.4.2 in /usr/local/lib/python3.6/dist-packages (from -r requirements.txt (line 370)) (20.4.2)\n",
            "Requirement already satisfied: wasabi==0.8.2 in /usr/local/lib/python3.6/dist-packages (from -r requirements.txt (line 371)) (0.8.2)\n",
            "Requirement already satisfied: wcwidth==0.2.5 in /usr/local/lib/python3.6/dist-packages (from -r requirements.txt (line 372)) (0.2.5)\n",
            "Requirement already satisfied: webencodings==0.5.1 in /usr/local/lib/python3.6/dist-packages (from -r requirements.txt (line 373)) (0.5.1)\n",
            "Requirement already satisfied: Werkzeug==1.0.1 in /usr/local/lib/python3.6/dist-packages (from -r requirements.txt (line 374)) (1.0.1)\n",
            "Requirement already satisfied: widgetsnbextension==3.5.1 in /usr/local/lib/python3.6/dist-packages (from -r requirements.txt (line 375)) (3.5.1)\n",
            "Requirement already satisfied: wordcloud==1.5.0 in /usr/local/lib/python3.6/dist-packages (from -r requirements.txt (line 376)) (1.5.0)\n",
            "Requirement already satisfied: wrapt==1.12.1 in /usr/local/lib/python3.6/dist-packages (from -r requirements.txt (line 377)) (1.12.1)\n",
            "Requirement already satisfied: xarray==0.15.1 in /usr/local/lib/python3.6/dist-packages (from -r requirements.txt (line 378)) (0.15.1)\n",
            "Requirement already satisfied: xgboost==0.90 in /usr/local/lib/python3.6/dist-packages (from -r requirements.txt (line 379)) (0.90)\n",
            "Requirement already satisfied: xkit==0.0.0 in /usr/lib/python3/dist-packages (from -r requirements.txt (line 380)) (0.0.0)\n",
            "Requirement already satisfied: xlrd==1.1.0 in /usr/local/lib/python3.6/dist-packages (from -r requirements.txt (line 381)) (1.1.0)\n",
            "Requirement already satisfied: xlwt==1.3.0 in /usr/local/lib/python3.6/dist-packages (from -r requirements.txt (line 382)) (1.3.0)\n",
            "Requirement already satisfied: yellowbrick==0.9.1 in /usr/local/lib/python3.6/dist-packages (from -r requirements.txt (line 383)) (0.9.1)\n",
            "Requirement already satisfied: zict==2.0.0 in /usr/local/lib/python3.6/dist-packages (from -r requirements.txt (line 384)) (2.0.0)\n",
            "Requirement already satisfied: zipp==3.4.0 in /usr/local/lib/python3.6/dist-packages (from -r requirements.txt (line 385)) (3.4.0)\n",
            "Requirement already satisfied: wheel<1.0,>=0.23.0 in /usr/local/lib/python3.6/dist-packages (from astunparse==1.6.3->-r requirements.txt (line 10)) (0.36.2)\n",
            "Requirement already satisfied: setuptools in /usr/local/lib/python3.6/dist-packages (from chainer==7.4.0->-r requirements.txt (line 31)) (53.0.0)\n"
          ],
          "name": "stdout"
        }
      ]
    },
    {
      "cell_type": "markdown",
      "metadata": {
        "id": "k1sLWa42bIwO"
      },
      "source": [
        "# 1. Понимание бизнеса\n",
        "\n",
        "## 1.1 Цель\n",
        "Предсказать качество португальского вина\n",
        "\n",
        "## 1.2 Описание\n",
        "Эти два набора данных относятся к красному и белому вариантам португальского вина \"Vinho Verde\". Из-за проблем конфиденциальности и логистики доступны только физико-химические (входные данные) и сенсорные (выходные данные) переменные (например, нет данных о сортах винограда, марке вина, цене продажи вина и т. д.).\n",
        "\n",
        "Эти наборы данных можно рассматривать как задачи классификации или регрессии. Классы упорядочены и не сбалансированы (например, нормальных вин гораздо больше, чем отличных или плохих). Алгоритмы обнаружения выбросов могут быть использованы для обнаружения нескольких превосходных или плохих вин.\n",
        "\n",
        "\n",
        "[Описание от Kaggle](https://www.kaggle.com/rajyellow46/wine-quality) [Текст ссылки](https://)"
      ]
    },
    {
      "cell_type": "markdown",
      "metadata": {
        "id": "veMjyPOVbIwP"
      },
      "source": [
        "# 2. Data Understanding\n",
        "\n",
        "## 2.1 Import Libraries"
      ]
    },
    {
      "cell_type": "markdown",
      "metadata": {
        "id": "XUit2z2-bIwQ"
      },
      "source": [
        "1-фиксированная кислотность \n",
        "2-Летучая кислотность \n",
        "3-лимонная кислота \n",
        "4-остаточный сахар \n",
        "5-хлориды \n",
        "6-свободный диоксид серы \n",
        "7-общий диоксид серы \n",
        "8-Плотность \n",
        "9-рН \n",
        "10-сульфаты \n",
        "11-алкоголь \n",
        "Выходная переменная (на основе сенсорных данных): \n",
        "12-качество (оценка от 0 до 10 баллов)"
      ]
    },
    {
      "cell_type": "code",
      "metadata": {
        "id": "7NKN2qnbdLdN",
        "colab": {
          "resources": {
            "http://localhost:8080/nbextensions/google.colab/files.js": {
              "data": "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",
              "ok": true,
              "headers": [
                [
                  "content-type",
                  "application/javascript"
                ]
              ],
              "status": 200,
              "status_text": ""
            }
          },
          "base_uri": "https://localhost:8080/",
          "height": 38
        },
        "outputId": "84dc8cb1-0ade-4b01-c13e-d1012515a6db"
      },
      "source": [
        "# from google.colab import files\n",
        "# uploaded = files.upload()"
      ],
      "execution_count": 8,
      "outputs": [
        {
          "output_type": "display_data",
          "data": {
            "text/html": [
              "\n",
              "     <input type=\"file\" id=\"files-7e5f1c73-aa82-4e49-bb36-ce3d399ea7e8\" name=\"files[]\" multiple disabled\n",
              "        style=\"border:none\" />\n",
              "     <output id=\"result-7e5f1c73-aa82-4e49-bb36-ce3d399ea7e8\">\n",
              "      Upload widget is only available when the cell has been executed in the\n",
              "      current browser session. Please rerun this cell to enable.\n",
              "      </output>\n",
              "      <script src=\"/nbextensions/google.colab/files.js\"></script> "
            ],
            "text/plain": [
              "<IPython.core.display.HTML object>"
            ]
          },
          "metadata": {
            "tags": []
          }
        }
      ]
    },
    {
      "cell_type": "markdown",
      "metadata": {
        "id": "HX7qB9PidTaT"
      },
      "source": [
        "## 2.2 Вспомогательные функции"
      ]
    },
    {
      "cell_type": "code",
      "metadata": {
        "id": "Da08yhXxdZOu"
      },
      "source": [
        "def plot_histograms( df , variables , n_rows , n_cols ):\n",
        "    fig = plt.figure( figsize = ( 16 , 12 ) )\n",
        "    for i, var_name in enumerate( variables ):\n",
        "        ax=fig.add_subplot( n_rows , n_cols , i+1 )\n",
        "        df[ var_name ].hist( bins=10 , ax=ax )\n",
        "        ax.set_title( 'Skew: ' + str( round( float( df[ var_name ].skew() ) , ) ) ) # + ' ' + var_name ) #var_name+\" Distribution\")\n",
        "        ax.set_xticklabels( [] , visible=False )\n",
        "        ax.set_yticklabels( [] , visible=False )\n",
        "    fig.tight_layout()  # Improves appearance a bit.\n",
        "    plt.show()\n",
        "\n",
        "def plot_distribution( df , var , target , **kwargs ):\n",
        "    row = kwargs.get( 'row' , None )\n",
        "    col = kwargs.get( 'col' , None )\n",
        "    facet = sns.FacetGrid( df , hue=target , aspect=4 , row = row , col = col )\n",
        "    facet.map( sns.kdeplot , var , shade= True )\n",
        "    facet.set( xlim=( 0 , df[ var ].max() ) )\n",
        "    facet.add_legend()\n",
        "\n",
        "def plot_categories( df , cat , target , **kwargs ):\n",
        "    row = kwargs.get( 'row' , None )\n",
        "    col = kwargs.get( 'col' , None )\n",
        "    facet = sns.FacetGrid( df , row = row , col = col )\n",
        "    facet.map( sns.barplot , cat , target )\n",
        "    facet.add_legend()\n",
        "\n",
        "def plot_correlation_map( data ):\n",
        "    corr = data.corr()\n",
        "    _ , ax = plt.subplots( figsize =( 12 , 10 ) )\n",
        "    cmap = sns.diverging_palette( 220 , 10 , as_cmap = True )\n",
        "    _ = sns.heatmap(\n",
        "        corr, \n",
        "        cmap = cmap,\n",
        "        square=True, \n",
        "        cbar_kws={ 'shrink' : .9 }, \n",
        "        ax=ax, \n",
        "        annot = True, \n",
        "        annot_kws = { 'fontsize' : 12 }\n",
        "    )\n",
        "\n",
        "def describe_more( df ):\n",
        "    var = [] ; l = [] ; t = []\n",
        "    for x in df:\n",
        "        var.append( x )\n",
        "        l.append( len( pd.value_counts( df[ x ] ) ) )\n",
        "        t.append( df[ x ].dtypes )\n",
        "    levels = pd.DataFrame( { 'Variable' : var , 'Levels' : l , 'Datatype' : t } )\n",
        "    levels.sort_values( by = 'Levels' , inplace = True )\n",
        "    return levels\n",
        "\n",
        "def plot_variable_importance( X , y ):\n",
        "    tree = DecisionTreeClassifier( random_state = 99 )\n",
        "    tree.fit( X , y )\n",
        "    plot_model_var_imp( tree , X , y )\n",
        "    \n",
        "def plot_model_var_imp( model , X , y ):\n",
        "    imp = pd.DataFrame( \n",
        "        model.feature_importances_  , \n",
        "        columns = [ 'Importance' ] , \n",
        "        index = X.columns \n",
        "    )\n",
        "    imp = imp.sort_values( [ 'Importance' ] , ascending = True )\n",
        "    imp[ : 10 ].plot( kind = 'barh' )\n",
        "    print (model.score( X , y ))\n",
        "\n",
        "def score(clf, x_train, x_test, y_train, y_test):\n",
        "    try:\n",
        "        y_pred_train, y_pred_test = clf.predict_proba(x_train)[:, 1], clf.predict_proba(x_test)[:, 1]\n",
        "        print(f'Train-test roc auc: {roc_auc_score(y_train.astype(bool), y_pred_train)}, {roc_auc_score(y_test.astype(bool), y_pred_test)}')\n",
        "    except AttributeError:\n",
        "        y_pred_train, y_pred_test = clf.predict(x_train), clf.predict(x_test)\n",
        "        print(f'Train-test r2 score: {r2_score(y_train, y_pred_train)}, {r2_score(y_test, y_pred_test)}')\n",
        "      "
      ],
      "execution_count": 15,
      "outputs": []
    },
    {
      "cell_type": "markdown",
      "metadata": {
        "id": "ufyvpruAdmMV"
      },
      "source": [
        "## 2.3 Загрузка данных"
      ]
    },
    {
      "cell_type": "code",
      "metadata": {
        "scrolled": false,
        "id": "Kz9ejKGybIwX"
      },
      "source": [
        "# data = pd.read_csv('winequalityN.csv')\n",
        "data = pd.read_csv('/content/drive/MyDrive/test_tasks/задача_вины/winequalityN.csv')"
      ],
      "execution_count": 16,
      "outputs": []
    },
    {
      "cell_type": "markdown",
      "metadata": {
        "id": "h4X_-Xj2d0m7"
      },
      "source": [
        "## 2.4 Статистика и визуализации"
      ]
    },
    {
      "cell_type": "code",
      "metadata": {
        "id": "G9Lb3N8Md0_p",
        "colab": {
          "base_uri": "https://localhost:8080/",
          "height": 238
        },
        "outputId": "59126ca3-4114-4ab8-a62c-2d37854cee1c"
      },
      "source": [
        "data.head()"
      ],
      "execution_count": 17,
      "outputs": [
        {
          "output_type": "execute_result",
          "data": {
            "text/html": [
              "<div>\n",
              "<style scoped>\n",
              "    .dataframe tbody tr th:only-of-type {\n",
              "        vertical-align: middle;\n",
              "    }\n",
              "\n",
              "    .dataframe tbody tr th {\n",
              "        vertical-align: top;\n",
              "    }\n",
              "\n",
              "    .dataframe thead th {\n",
              "        text-align: right;\n",
              "    }\n",
              "</style>\n",
              "<table border=\"1\" class=\"dataframe\">\n",
              "  <thead>\n",
              "    <tr style=\"text-align: right;\">\n",
              "      <th></th>\n",
              "      <th>type</th>\n",
              "      <th>fixed acidity</th>\n",
              "      <th>volatile acidity</th>\n",
              "      <th>citric acid</th>\n",
              "      <th>residual sugar</th>\n",
              "      <th>chlorides</th>\n",
              "      <th>free sulfur dioxide</th>\n",
              "      <th>total sulfur dioxide</th>\n",
              "      <th>density</th>\n",
              "      <th>pH</th>\n",
              "      <th>sulphates</th>\n",
              "      <th>alcohol</th>\n",
              "      <th>quality</th>\n",
              "    </tr>\n",
              "  </thead>\n",
              "  <tbody>\n",
              "    <tr>\n",
              "      <th>0</th>\n",
              "      <td>white</td>\n",
              "      <td>7.0</td>\n",
              "      <td>0.27</td>\n",
              "      <td>0.36</td>\n",
              "      <td>20.7</td>\n",
              "      <td>0.045</td>\n",
              "      <td>45.0</td>\n",
              "      <td>170.0</td>\n",
              "      <td>1.0010</td>\n",
              "      <td>3.00</td>\n",
              "      <td>0.45</td>\n",
              "      <td>8.8</td>\n",
              "      <td>6</td>\n",
              "    </tr>\n",
              "    <tr>\n",
              "      <th>1</th>\n",
              "      <td>white</td>\n",
              "      <td>6.3</td>\n",
              "      <td>0.30</td>\n",
              "      <td>0.34</td>\n",
              "      <td>1.6</td>\n",
              "      <td>0.049</td>\n",
              "      <td>14.0</td>\n",
              "      <td>132.0</td>\n",
              "      <td>0.9940</td>\n",
              "      <td>3.30</td>\n",
              "      <td>0.49</td>\n",
              "      <td>9.5</td>\n",
              "      <td>6</td>\n",
              "    </tr>\n",
              "    <tr>\n",
              "      <th>2</th>\n",
              "      <td>white</td>\n",
              "      <td>8.1</td>\n",
              "      <td>0.28</td>\n",
              "      <td>0.40</td>\n",
              "      <td>6.9</td>\n",
              "      <td>0.050</td>\n",
              "      <td>30.0</td>\n",
              "      <td>97.0</td>\n",
              "      <td>0.9951</td>\n",
              "      <td>3.26</td>\n",
              "      <td>0.44</td>\n",
              "      <td>10.1</td>\n",
              "      <td>6</td>\n",
              "    </tr>\n",
              "    <tr>\n",
              "      <th>3</th>\n",
              "      <td>white</td>\n",
              "      <td>7.2</td>\n",
              "      <td>0.23</td>\n",
              "      <td>0.32</td>\n",
              "      <td>8.5</td>\n",
              "      <td>0.058</td>\n",
              "      <td>47.0</td>\n",
              "      <td>186.0</td>\n",
              "      <td>0.9956</td>\n",
              "      <td>3.19</td>\n",
              "      <td>0.40</td>\n",
              "      <td>9.9</td>\n",
              "      <td>6</td>\n",
              "    </tr>\n",
              "    <tr>\n",
              "      <th>4</th>\n",
              "      <td>white</td>\n",
              "      <td>7.2</td>\n",
              "      <td>0.23</td>\n",
              "      <td>0.32</td>\n",
              "      <td>8.5</td>\n",
              "      <td>0.058</td>\n",
              "      <td>47.0</td>\n",
              "      <td>186.0</td>\n",
              "      <td>0.9956</td>\n",
              "      <td>3.19</td>\n",
              "      <td>0.40</td>\n",
              "      <td>9.9</td>\n",
              "      <td>6</td>\n",
              "    </tr>\n",
              "  </tbody>\n",
              "</table>\n",
              "</div>"
            ],
            "text/plain": [
              "    type  fixed acidity  volatile acidity  ...  sulphates  alcohol  quality\n",
              "0  white            7.0              0.27  ...       0.45      8.8        6\n",
              "1  white            6.3              0.30  ...       0.49      9.5        6\n",
              "2  white            8.1              0.28  ...       0.44     10.1        6\n",
              "3  white            7.2              0.23  ...       0.40      9.9        6\n",
              "4  white            7.2              0.23  ...       0.40      9.9        6\n",
              "\n",
              "[5 rows x 13 columns]"
            ]
          },
          "metadata": {
            "tags": []
          },
          "execution_count": 17
        }
      ]
    },
    {
      "cell_type": "markdown",
      "metadata": {
        "id": "aQq0yyhAd_Ba"
      },
      "source": [
        "**Описание переменных**\n",
        "\n",
        " - fixed acidity: фиксированная кислотность \n",
        " - volatile acidity: Летучая кислотность \n",
        " - citric acid: лимонная кислота \n",
        " - residual sugar: остаточный сахар \n",
        " - chlorides: хлориды \n",
        " - free sulfur dioxide: свободный диоксид серы \n",
        " - total sulfur dioxide: общий диоксид серы \n",
        " - density: Плотность \n",
        " - pH: рН \n",
        " - sulphates: сульфаты \n",
        " - alcohol: алкоголь \n",
        "\n",
        "\n",
        "   Переменная, которую надо предсказать (на основе принятых перечисленных  выше данных): \n",
        " - quality: качество (оценка от 0 до 10 баллов)\n",
        "\n",
        "\n",
        "[Больше информации на сайте Kaggle]((https://www.kaggle.com/rajyellow46/wine-quality))"
      ]
    },
    {
      "cell_type": "markdown",
      "metadata": {
        "id": "75p4hA8jfCkL"
      },
      "source": [
        "### 2.4.1 Далее взглянем на некоторую ключевую информацию о переменных\n",
        "Числовая переменная - это переменная со значениями в области целых или действительных чисел, в то время как категориальная переменная - это переменная, которая может принимать одно из ограниченного и обычно фиксированного числа возможных значений, таких как тип крови.\n",
        "\n",
        "Обратите особое внимание на тип каждой переменной, количество наблюдений и некоторые значения переменных.\n",
        "\n"
      ]
    },
    {
      "cell_type": "code",
      "metadata": {
        "scrolled": true,
        "id": "KtO7NOXhbIwe",
        "colab": {
          "base_uri": "https://localhost:8080/"
        },
        "outputId": "27471471-617f-4365-addf-25eef322d076"
      },
      "source": [
        "data.info()"
      ],
      "execution_count": 18,
      "outputs": [
        {
          "output_type": "stream",
          "text": [
            "<class 'pandas.core.frame.DataFrame'>\n",
            "RangeIndex: 6497 entries, 0 to 6496\n",
            "Data columns (total 13 columns):\n",
            " #   Column                Non-Null Count  Dtype  \n",
            "---  ------                --------------  -----  \n",
            " 0   type                  6497 non-null   object \n",
            " 1   fixed acidity         6487 non-null   float64\n",
            " 2   volatile acidity      6489 non-null   float64\n",
            " 3   citric acid           6494 non-null   float64\n",
            " 4   residual sugar        6495 non-null   float64\n",
            " 5   chlorides             6495 non-null   float64\n",
            " 6   free sulfur dioxide   6497 non-null   float64\n",
            " 7   total sulfur dioxide  6497 non-null   float64\n",
            " 8   density               6497 non-null   float64\n",
            " 9   pH                    6488 non-null   float64\n",
            " 10  sulphates             6493 non-null   float64\n",
            " 11  alcohol               6497 non-null   float64\n",
            " 12  quality               6497 non-null   int64  \n",
            "dtypes: float64(11), int64(1), object(1)\n",
            "memory usage: 660.0+ KB\n"
          ],
          "name": "stdout"
        }
      ]
    },
    {
      "cell_type": "code",
      "metadata": {
        "scrolled": false,
        "id": "CV4AgYdPbIwi",
        "colab": {
          "base_uri": "https://localhost:8080/",
          "height": 421
        },
        "outputId": "6dab1548-1378-4b15-e485-1c57bbea774b"
      },
      "source": [
        "data.describe().transpose()"
      ],
      "execution_count": 19,
      "outputs": [
        {
          "output_type": "execute_result",
          "data": {
            "text/html": [
              "<div>\n",
              "<style scoped>\n",
              "    .dataframe tbody tr th:only-of-type {\n",
              "        vertical-align: middle;\n",
              "    }\n",
              "\n",
              "    .dataframe tbody tr th {\n",
              "        vertical-align: top;\n",
              "    }\n",
              "\n",
              "    .dataframe thead th {\n",
              "        text-align: right;\n",
              "    }\n",
              "</style>\n",
              "<table border=\"1\" class=\"dataframe\">\n",
              "  <thead>\n",
              "    <tr style=\"text-align: right;\">\n",
              "      <th></th>\n",
              "      <th>count</th>\n",
              "      <th>mean</th>\n",
              "      <th>std</th>\n",
              "      <th>min</th>\n",
              "      <th>25%</th>\n",
              "      <th>50%</th>\n",
              "      <th>75%</th>\n",
              "      <th>max</th>\n",
              "    </tr>\n",
              "  </thead>\n",
              "  <tbody>\n",
              "    <tr>\n",
              "      <th>fixed acidity</th>\n",
              "      <td>6487.0</td>\n",
              "      <td>7.216579</td>\n",
              "      <td>1.296750</td>\n",
              "      <td>3.80000</td>\n",
              "      <td>6.40000</td>\n",
              "      <td>7.00000</td>\n",
              "      <td>7.70000</td>\n",
              "      <td>15.90000</td>\n",
              "    </tr>\n",
              "    <tr>\n",
              "      <th>volatile acidity</th>\n",
              "      <td>6489.0</td>\n",
              "      <td>0.339691</td>\n",
              "      <td>0.164649</td>\n",
              "      <td>0.08000</td>\n",
              "      <td>0.23000</td>\n",
              "      <td>0.29000</td>\n",
              "      <td>0.40000</td>\n",
              "      <td>1.58000</td>\n",
              "    </tr>\n",
              "    <tr>\n",
              "      <th>citric acid</th>\n",
              "      <td>6494.0</td>\n",
              "      <td>0.318722</td>\n",
              "      <td>0.145265</td>\n",
              "      <td>0.00000</td>\n",
              "      <td>0.25000</td>\n",
              "      <td>0.31000</td>\n",
              "      <td>0.39000</td>\n",
              "      <td>1.66000</td>\n",
              "    </tr>\n",
              "    <tr>\n",
              "      <th>residual sugar</th>\n",
              "      <td>6495.0</td>\n",
              "      <td>5.444326</td>\n",
              "      <td>4.758125</td>\n",
              "      <td>0.60000</td>\n",
              "      <td>1.80000</td>\n",
              "      <td>3.00000</td>\n",
              "      <td>8.10000</td>\n",
              "      <td>65.80000</td>\n",
              "    </tr>\n",
              "    <tr>\n",
              "      <th>chlorides</th>\n",
              "      <td>6495.0</td>\n",
              "      <td>0.056042</td>\n",
              "      <td>0.035036</td>\n",
              "      <td>0.00900</td>\n",
              "      <td>0.03800</td>\n",
              "      <td>0.04700</td>\n",
              "      <td>0.06500</td>\n",
              "      <td>0.61100</td>\n",
              "    </tr>\n",
              "    <tr>\n",
              "      <th>free sulfur dioxide</th>\n",
              "      <td>6497.0</td>\n",
              "      <td>30.525319</td>\n",
              "      <td>17.749400</td>\n",
              "      <td>1.00000</td>\n",
              "      <td>17.00000</td>\n",
              "      <td>29.00000</td>\n",
              "      <td>41.00000</td>\n",
              "      <td>289.00000</td>\n",
              "    </tr>\n",
              "    <tr>\n",
              "      <th>total sulfur dioxide</th>\n",
              "      <td>6497.0</td>\n",
              "      <td>115.744574</td>\n",
              "      <td>56.521855</td>\n",
              "      <td>6.00000</td>\n",
              "      <td>77.00000</td>\n",
              "      <td>118.00000</td>\n",
              "      <td>156.00000</td>\n",
              "      <td>440.00000</td>\n",
              "    </tr>\n",
              "    <tr>\n",
              "      <th>density</th>\n",
              "      <td>6497.0</td>\n",
              "      <td>0.994697</td>\n",
              "      <td>0.002999</td>\n",
              "      <td>0.98711</td>\n",
              "      <td>0.99234</td>\n",
              "      <td>0.99489</td>\n",
              "      <td>0.99699</td>\n",
              "      <td>1.03898</td>\n",
              "    </tr>\n",
              "    <tr>\n",
              "      <th>pH</th>\n",
              "      <td>6488.0</td>\n",
              "      <td>3.218395</td>\n",
              "      <td>0.160748</td>\n",
              "      <td>2.72000</td>\n",
              "      <td>3.11000</td>\n",
              "      <td>3.21000</td>\n",
              "      <td>3.32000</td>\n",
              "      <td>4.01000</td>\n",
              "    </tr>\n",
              "    <tr>\n",
              "      <th>sulphates</th>\n",
              "      <td>6493.0</td>\n",
              "      <td>0.531215</td>\n",
              "      <td>0.148814</td>\n",
              "      <td>0.22000</td>\n",
              "      <td>0.43000</td>\n",
              "      <td>0.51000</td>\n",
              "      <td>0.60000</td>\n",
              "      <td>2.00000</td>\n",
              "    </tr>\n",
              "    <tr>\n",
              "      <th>alcohol</th>\n",
              "      <td>6497.0</td>\n",
              "      <td>10.491801</td>\n",
              "      <td>1.192712</td>\n",
              "      <td>8.00000</td>\n",
              "      <td>9.50000</td>\n",
              "      <td>10.30000</td>\n",
              "      <td>11.30000</td>\n",
              "      <td>14.90000</td>\n",
              "    </tr>\n",
              "    <tr>\n",
              "      <th>quality</th>\n",
              "      <td>6497.0</td>\n",
              "      <td>5.818378</td>\n",
              "      <td>0.873255</td>\n",
              "      <td>3.00000</td>\n",
              "      <td>5.00000</td>\n",
              "      <td>6.00000</td>\n",
              "      <td>6.00000</td>\n",
              "      <td>9.00000</td>\n",
              "    </tr>\n",
              "  </tbody>\n",
              "</table>\n",
              "</div>"
            ],
            "text/plain": [
              "                       count        mean  ...        75%        max\n",
              "fixed acidity         6487.0    7.216579  ...    7.70000   15.90000\n",
              "volatile acidity      6489.0    0.339691  ...    0.40000    1.58000\n",
              "citric acid           6494.0    0.318722  ...    0.39000    1.66000\n",
              "residual sugar        6495.0    5.444326  ...    8.10000   65.80000\n",
              "chlorides             6495.0    0.056042  ...    0.06500    0.61100\n",
              "free sulfur dioxide   6497.0   30.525319  ...   41.00000  289.00000\n",
              "total sulfur dioxide  6497.0  115.744574  ...  156.00000  440.00000\n",
              "density               6497.0    0.994697  ...    0.99699    1.03898\n",
              "pH                    6488.0    3.218395  ...    3.32000    4.01000\n",
              "sulphates             6493.0    0.531215  ...    0.60000    2.00000\n",
              "alcohol               6497.0   10.491801  ...   11.30000   14.90000\n",
              "quality               6497.0    5.818378  ...    6.00000    9.00000\n",
              "\n",
              "[12 rows x 8 columns]"
            ]
          },
          "metadata": {
            "tags": []
          },
          "execution_count": 19
        }
      ]
    },
    {
      "cell_type": "markdown",
      "metadata": {
        "id": "Y1ZLsvd1hbsm"
      },
      "source": [
        "### 2.4.2 Тепловая карта корреляции может дать нам понимание того, какие переменные важны"
      ]
    },
    {
      "cell_type": "code",
      "metadata": {
        "id": "xt-YQZtmhdLR",
        "colab": {
          "base_uri": "https://localhost:8080/",
          "height": 667
        },
        "outputId": "805a25b3-3498-493b-c9c2-ee961ee08080"
      },
      "source": [
        "plot_correlation_map( data )"
      ],
      "execution_count": 20,
      "outputs": [
        {
          "output_type": "display_data",
          "data": {
            "image/png": "[encoded data removed]",
            "text/plain": [
              "<Figure size 864x720 with 2 Axes>"
            ]
          },
          "metadata": {
            "tags": []
          }
        }
      ]
    },
    {
      "cell_type": "markdown",
      "metadata": {
        "id": "ZqATdQfDkRqB"
      },
      "source": [
        "### 2.4.3 Давайте подробнее рассмотрим взаимосвязь между процентом алкоголя и качеством вина\n",
        "Начнем с рассмотрения взаимосвязи между процентом алкоголя и качеством вина."
      ]
    },
    {
      "cell_type": "code",
      "metadata": {
        "id": "xbEqe-mclouH",
        "colab": {
          "base_uri": "https://localhost:8080/",
          "height": 183
        },
        "outputId": "275e2a25-4039-4749-ff8b-7446fa4c1078"
      },
      "source": [
        "plt.figure(figsize=(19,2))\n",
        "sns.boxplot(x=data['alcohol'])"
      ],
      "execution_count": 21,
      "outputs": [
        {
          "output_type": "execute_result",
          "data": {
            "text/plain": [
              "<matplotlib.axes._subplots.AxesSubplot at 0x7f4f3b0444e0>"
            ]
          },
          "metadata": {
            "tags": []
          },
          "execution_count": 21
        },
        {
          "output_type": "display_data",
          "data": {
            "image/png": "[encoded data removed]",
            "text/plain": [
              "<Figure size 1368x144 with 1 Axes>"
            ]
          },
          "metadata": {
            "tags": []
          }
        }
      ]
    },
    {
      "cell_type": "code",
      "metadata": {
        "id": "22jDmE1zkQ-J",
        "colab": {
          "base_uri": "https://localhost:8080/",
          "height": 441
        },
        "outputId": "a1ceb214-39eb-4025-8de5-bfdf190bcda9"
      },
      "source": [
        "# Plot distributions of Alcohol and wine's quality\n",
        "plot_distribution( data , var = 'alcohol' , target = 'quality' , row = 'type' )"
      ],
      "execution_count": 22,
      "outputs": [
        {
          "output_type": "display_data",
          "data": {
            "image/png": "[encoded data removed]",
            "text/plain": [
              "<Figure size 906.375x432 with 2 Axes>"
            ]
          },
          "metadata": {
            "tags": []
          }
        }
      ]
    },
    {
      "cell_type": "markdown",
      "metadata": {
        "id": "1MfhsrRBl-BF"
      },
      "source": [
        "Рассмотрим графики выше. Различия между выживаемостью для разных значений - это то, что будет использоваться для разделения целевой переменной (в данном случае - выживаемости) в модели. Если бы две линии были примерно одинаковыми, то это не было бы хорошей переменной для нашей прогностической модели."
      ]
    },
    {
      "cell_type": "markdown",
      "metadata": {
        "id": "M34UajuLovdU"
      },
      "source": [
        "### 2.4.4 Тип вина\n",
        "Мы также можем посмотреть на категориальную переменную \"тип вина\" и ее связью с качеством\n",
        "\n",
        "- white = белое вина  \n",
        "- red = красное вино\n"
      ]
    },
    {
      "cell_type": "code",
      "metadata": {
        "id": "cVpOiSwKpHES",
        "colab": {
          "base_uri": "https://localhost:8080/",
          "height": 225
        },
        "outputId": "366dbcc6-0d43-46ed-9e7e-b412cb116707"
      },
      "source": [
        "# Plot quality rate by type\n",
        "plot_categories( data , cat = 'type' , target = 'quality' )"
      ],
      "execution_count": 23,
      "outputs": [
        {
          "output_type": "display_data",
          "data": {
            "image/png": "[encoded data removed]",
            "text/plain": [
              "<Figure size 224x216 with 1 Axes>"
            ]
          },
          "metadata": {
            "tags": []
          }
        }
      ]
    },
    {
      "cell_type": "markdown",
      "metadata": {
        "id": "eJYrW3LgpWDS"
      },
      "source": [
        "# 3. Data Preparation"
      ]
    },
    {
      "cell_type": "markdown",
      "metadata": {
        "id": "bzHAhX9SpXIB"
      },
      "source": [
        "## 3.1 Категориальные переменные должны быть преобразованы в числовые переменные\n",
        "\n",
        "Переменная type рассматривается как категориальная переменная. Некоторые из  алгоритмов могут обрабатывать только числовые значения, поэтому нам нужно создать новую (фиктивную) переменную для каждого уникального значения категориальных переменных (LabelEncoding), назовем ее cat_feat. Остальные переменные будут носить наименование num_feat.\n",
        "Теперь белое вино=1, красное=0."
      ]
    },
    {
      "cell_type": "code",
      "metadata": {
        "id": "C_SQ2Js-p5oJ",
        "colab": {
          "base_uri": "https://localhost:8080/",
          "height": 238
        },
        "outputId": "10954b04-c515-45c9-975d-c3d764a52074"
      },
      "source": [
        "cat_feat_data = data[['type']].apply(LabelEncoder().fit_transform)\n",
        "num_feat_data = data.drop(['type'], axis=1)\n",
        "data = pd.concat([num_feat_data, cat_feat_data], axis=1)\n",
        "cat_feat = cat_feat_data.columns\n",
        "num_feat = num_feat_data.columns\n",
        "data.head()"
      ],
      "execution_count": 24,
      "outputs": [
        {
          "output_type": "execute_result",
          "data": {
            "text/html": [
              "<div>\n",
              "<style scoped>\n",
              "    .dataframe tbody tr th:only-of-type {\n",
              "        vertical-align: middle;\n",
              "    }\n",
              "\n",
              "    .dataframe tbody tr th {\n",
              "        vertical-align: top;\n",
              "    }\n",
              "\n",
              "    .dataframe thead th {\n",
              "        text-align: right;\n",
              "    }\n",
              "</style>\n",
              "<table border=\"1\" class=\"dataframe\">\n",
              "  <thead>\n",
              "    <tr style=\"text-align: right;\">\n",
              "      <th></th>\n",
              "      <th>fixed acidity</th>\n",
              "      <th>volatile acidity</th>\n",
              "      <th>citric acid</th>\n",
              "      <th>residual sugar</th>\n",
              "      <th>chlorides</th>\n",
              "      <th>free sulfur dioxide</th>\n",
              "      <th>total sulfur dioxide</th>\n",
              "      <th>density</th>\n",
              "      <th>pH</th>\n",
              "      <th>sulphates</th>\n",
              "      <th>alcohol</th>\n",
              "      <th>quality</th>\n",
              "      <th>type</th>\n",
              "    </tr>\n",
              "  </thead>\n",
              "  <tbody>\n",
              "    <tr>\n",
              "      <th>0</th>\n",
              "      <td>7.0</td>\n",
              "      <td>0.27</td>\n",
              "      <td>0.36</td>\n",
              "      <td>20.7</td>\n",
              "      <td>0.045</td>\n",
              "      <td>45.0</td>\n",
              "      <td>170.0</td>\n",
              "      <td>1.0010</td>\n",
              "      <td>3.00</td>\n",
              "      <td>0.45</td>\n",
              "      <td>8.8</td>\n",
              "      <td>6</td>\n",
              "      <td>1</td>\n",
              "    </tr>\n",
              "    <tr>\n",
              "      <th>1</th>\n",
              "      <td>6.3</td>\n",
              "      <td>0.30</td>\n",
              "      <td>0.34</td>\n",
              "      <td>1.6</td>\n",
              "      <td>0.049</td>\n",
              "      <td>14.0</td>\n",
              "      <td>132.0</td>\n",
              "      <td>0.9940</td>\n",
              "      <td>3.30</td>\n",
              "      <td>0.49</td>\n",
              "      <td>9.5</td>\n",
              "      <td>6</td>\n",
              "      <td>1</td>\n",
              "    </tr>\n",
              "    <tr>\n",
              "      <th>2</th>\n",
              "      <td>8.1</td>\n",
              "      <td>0.28</td>\n",
              "      <td>0.40</td>\n",
              "      <td>6.9</td>\n",
              "      <td>0.050</td>\n",
              "      <td>30.0</td>\n",
              "      <td>97.0</td>\n",
              "      <td>0.9951</td>\n",
              "      <td>3.26</td>\n",
              "      <td>0.44</td>\n",
              "      <td>10.1</td>\n",
              "      <td>6</td>\n",
              "      <td>1</td>\n",
              "    </tr>\n",
              "    <tr>\n",
              "      <th>3</th>\n",
              "      <td>7.2</td>\n",
              "      <td>0.23</td>\n",
              "      <td>0.32</td>\n",
              "      <td>8.5</td>\n",
              "      <td>0.058</td>\n",
              "      <td>47.0</td>\n",
              "      <td>186.0</td>\n",
              "      <td>0.9956</td>\n",
              "      <td>3.19</td>\n",
              "      <td>0.40</td>\n",
              "      <td>9.9</td>\n",
              "      <td>6</td>\n",
              "      <td>1</td>\n",
              "    </tr>\n",
              "    <tr>\n",
              "      <th>4</th>\n",
              "      <td>7.2</td>\n",
              "      <td>0.23</td>\n",
              "      <td>0.32</td>\n",
              "      <td>8.5</td>\n",
              "      <td>0.058</td>\n",
              "      <td>47.0</td>\n",
              "      <td>186.0</td>\n",
              "      <td>0.9956</td>\n",
              "      <td>3.19</td>\n",
              "      <td>0.40</td>\n",
              "      <td>9.9</td>\n",
              "      <td>6</td>\n",
              "      <td>1</td>\n",
              "    </tr>\n",
              "  </tbody>\n",
              "</table>\n",
              "</div>"
            ],
            "text/plain": [
              "   fixed acidity  volatile acidity  citric acid  ...  alcohol  quality  type\n",
              "0            7.0              0.27         0.36  ...      8.8        6     1\n",
              "1            6.3              0.30         0.34  ...      9.5        6     1\n",
              "2            8.1              0.28         0.40  ...     10.1        6     1\n",
              "3            7.2              0.23         0.32  ...      9.9        6     1\n",
              "4            7.2              0.23         0.32  ...      9.9        6     1\n",
              "\n",
              "[5 rows x 13 columns]"
            ]
          },
          "metadata": {
            "tags": []
          },
          "execution_count": 24
        }
      ]
    },
    {
      "cell_type": "markdown",
      "metadata": {
        "id": "azVruuJ4qRBu"
      },
      "source": [
        "## 3.2 Заполнить пропущенные значения в переменных\n",
        "Большинство алгоритмов машинного обучения требуют, чтобы все переменные имели значения, чтобы использовать их для обучения модели. Самый простой метод - заполнить пропущенные значения средним по переменной для всех наблюдений в обучающем наборе. Но более логично проанализировать возможные варианты по остальным признакам, и заполнить подобными"
      ]
    },
    {
      "cell_type": "code",
      "metadata": {
        "id": "-PX2NQ2VbIwm",
        "colab": {
          "base_uri": "https://localhost:8080/"
        },
        "outputId": "56259e54-3ac3-49b8-a93f-deacf635d507"
      },
      "source": [
        "data.isnull().sum()"
      ],
      "execution_count": 25,
      "outputs": [
        {
          "output_type": "execute_result",
          "data": {
            "text/plain": [
              "fixed acidity           10\n",
              "volatile acidity         8\n",
              "citric acid              3\n",
              "residual sugar           2\n",
              "chlorides                2\n",
              "free sulfur dioxide      0\n",
              "total sulfur dioxide     0\n",
              "density                  0\n",
              "pH                       9\n",
              "sulphates                4\n",
              "alcohol                  0\n",
              "quality                  0\n",
              "type                     0\n",
              "dtype: int64"
            ]
          },
          "metadata": {
            "tags": []
          },
          "execution_count": 25
        }
      ]
    },
    {
      "cell_type": "code",
      "metadata": {
        "id": "8O21P_DOqkJ1",
        "colab": {
          "base_uri": "https://localhost:8080/"
        },
        "outputId": "d3d5d35b-0c3f-40f9-a9fc-390c9b34459d"
      },
      "source": [
        "print('Для фиксированной кислотности пустых строк ' + str( len( data[ pd.isnull( data['fixed acidity'] ) ] ) ))\n",
        "print('Для летучей кислотности пустых строк ' + str( len( data[ pd.isnull( data['volatile acidity'] ) ] ) ))\n",
        "print('Для лимонной кислоты пустых строк ' + str( len( data[ pd.isnull( data['citric acid'] ) ] ) ))\n",
        "print('Для остаточного сахара пустых строк ' + str( len( data[ pd.isnull( data['residual sugar'] ) ] ) ))\n",
        "print('Для хлоридов пустых строк ' + str( len( data[ pd.isnull( data['chlorides'] ) ] ) ))\n",
        "print('Для Ph пустых строк ' + str( len( data[ pd.isnull( data['pH'] ) ] ) ))\n",
        "print('Для сульфатов пустых строк ' + str( len( data[ pd.isnull( data['sulphates'] ) ] ) ))\n",
        "print('Всего строк в наборе ' + str( len( data ) ))"
      ],
      "execution_count": 26,
      "outputs": [
        {
          "output_type": "stream",
          "text": [
            "Для фиксированной кислотности пустых строк 10\n",
            "Для летучей кислотности пустых строк 8\n",
            "Для лимонной кислоты пустых строк 3\n",
            "Для остаточного сахара пустых строк 2\n",
            "Для хлоридов пустых строк 2\n",
            "Для Ph пустых строк 9\n",
            "Для сульфатов пустых строк 4\n",
            "Всего строк в наборе 6497\n"
          ],
          "name": "stdout"
        }
      ]
    },
    {
      "cell_type": "markdown",
      "metadata": {
        "id": "6AxKv9PCbIwz"
      },
      "source": [
        "Очевидно, что химические реакции связаны между собой, это значит, что необходимо отследить зависимость фиксированной кислоности и летучей кислотности, хлоридов и тд и на основании этих данных заполнить пустые"
      ]
    },
    {
      "cell_type": "code",
      "metadata": {
        "id": "HcZZBho-sbJW",
        "colab": {
          "base_uri": "https://localhost:8080/"
        },
        "outputId": "a3bb323a-3f6e-4608-fcc2-965ae2e97586"
      },
      "source": [
        "data.corrwith(data['fixed acidity']).sort_values(ascending=False)"
      ],
      "execution_count": 27,
      "outputs": [
        {
          "output_type": "execute_result",
          "data": {
            "text/plain": [
              "fixed acidity           1.000000\n",
              "density                 0.459204\n",
              "citric acid             0.323736\n",
              "sulphates               0.300380\n",
              "chlorides               0.298421\n",
              "volatile acidity        0.220172\n",
              "quality                -0.077031\n",
              "alcohol                -0.095603\n",
              "residual sugar         -0.112319\n",
              "pH                     -0.251814\n",
              "free sulfur dioxide    -0.283317\n",
              "total sulfur dioxide   -0.329747\n",
              "type                   -0.487241\n",
              "dtype: float64"
            ]
          },
          "metadata": {
            "tags": []
          },
          "execution_count": 27
        }
      ]
    },
    {
      "cell_type": "code",
      "metadata": {
        "id": "fq8jtUeSbIwz",
        "colab": {
          "base_uri": "https://localhost:8080/",
          "height": 393
        },
        "outputId": "a3ca2232-3d6d-4dd2-ae12-48ca75706ed5"
      },
      "source": [
        "data[data['fixed acidity'].isnull()].groupby('density').head()"
      ],
      "execution_count": 28,
      "outputs": [
        {
          "output_type": "execute_result",
          "data": {
            "text/html": [
              "<div>\n",
              "<style scoped>\n",
              "    .dataframe tbody tr th:only-of-type {\n",
              "        vertical-align: middle;\n",
              "    }\n",
              "\n",
              "    .dataframe tbody tr th {\n",
              "        vertical-align: top;\n",
              "    }\n",
              "\n",
              "    .dataframe thead th {\n",
              "        text-align: right;\n",
              "    }\n",
              "</style>\n",
              "<table border=\"1\" class=\"dataframe\">\n",
              "  <thead>\n",
              "    <tr style=\"text-align: right;\">\n",
              "      <th></th>\n",
              "      <th>fixed acidity</th>\n",
              "      <th>volatile acidity</th>\n",
              "      <th>citric acid</th>\n",
              "      <th>residual sugar</th>\n",
              "      <th>chlorides</th>\n",
              "      <th>free sulfur dioxide</th>\n",
              "      <th>total sulfur dioxide</th>\n",
              "      <th>density</th>\n",
              "      <th>pH</th>\n",
              "      <th>sulphates</th>\n",
              "      <th>alcohol</th>\n",
              "      <th>quality</th>\n",
              "      <th>type</th>\n",
              "    </tr>\n",
              "  </thead>\n",
              "  <tbody>\n",
              "    <tr>\n",
              "      <th>17</th>\n",
              "      <td>NaN</td>\n",
              "      <td>0.660</td>\n",
              "      <td>0.48</td>\n",
              "      <td>1.2</td>\n",
              "      <td>0.029</td>\n",
              "      <td>29.0</td>\n",
              "      <td>75.0</td>\n",
              "      <td>0.98920</td>\n",
              "      <td>3.33</td>\n",
              "      <td>0.39</td>\n",
              "      <td>12.8</td>\n",
              "      <td>8</td>\n",
              "      <td>1</td>\n",
              "    </tr>\n",
              "    <tr>\n",
              "      <th>174</th>\n",
              "      <td>NaN</td>\n",
              "      <td>0.270</td>\n",
              "      <td>0.31</td>\n",
              "      <td>17.7</td>\n",
              "      <td>0.051</td>\n",
              "      <td>33.0</td>\n",
              "      <td>173.0</td>\n",
              "      <td>0.99900</td>\n",
              "      <td>3.09</td>\n",
              "      <td>0.64</td>\n",
              "      <td>10.2</td>\n",
              "      <td>5</td>\n",
              "      <td>1</td>\n",
              "    </tr>\n",
              "    <tr>\n",
              "      <th>249</th>\n",
              "      <td>NaN</td>\n",
              "      <td>0.410</td>\n",
              "      <td>0.14</td>\n",
              "      <td>10.4</td>\n",
              "      <td>0.037</td>\n",
              "      <td>18.0</td>\n",
              "      <td>119.0</td>\n",
              "      <td>0.99600</td>\n",
              "      <td>3.38</td>\n",
              "      <td>0.45</td>\n",
              "      <td>10.0</td>\n",
              "      <td>5</td>\n",
              "      <td>1</td>\n",
              "    </tr>\n",
              "    <tr>\n",
              "      <th>267</th>\n",
              "      <td>NaN</td>\n",
              "      <td>0.580</td>\n",
              "      <td>0.07</td>\n",
              "      <td>6.9</td>\n",
              "      <td>0.043</td>\n",
              "      <td>34.0</td>\n",
              "      <td>149.0</td>\n",
              "      <td>0.99440</td>\n",
              "      <td>3.34</td>\n",
              "      <td>0.57</td>\n",
              "      <td>9.7</td>\n",
              "      <td>5</td>\n",
              "      <td>1</td>\n",
              "    </tr>\n",
              "    <tr>\n",
              "      <th>368</th>\n",
              "      <td>NaN</td>\n",
              "      <td>0.290</td>\n",
              "      <td>0.48</td>\n",
              "      <td>2.3</td>\n",
              "      <td>0.049</td>\n",
              "      <td>36.0</td>\n",
              "      <td>178.0</td>\n",
              "      <td>0.99310</td>\n",
              "      <td>3.17</td>\n",
              "      <td>0.64</td>\n",
              "      <td>10.6</td>\n",
              "      <td>6</td>\n",
              "      <td>1</td>\n",
              "    </tr>\n",
              "    <tr>\n",
              "      <th>518</th>\n",
              "      <td>NaN</td>\n",
              "      <td>0.130</td>\n",
              "      <td>0.28</td>\n",
              "      <td>1.9</td>\n",
              "      <td>0.050</td>\n",
              "      <td>20.0</td>\n",
              "      <td>78.0</td>\n",
              "      <td>0.99180</td>\n",
              "      <td>3.43</td>\n",
              "      <td>0.64</td>\n",
              "      <td>10.8</td>\n",
              "      <td>6</td>\n",
              "      <td>1</td>\n",
              "    </tr>\n",
              "    <tr>\n",
              "      <th>1079</th>\n",
              "      <td>NaN</td>\n",
              "      <td>NaN</td>\n",
              "      <td>0.29</td>\n",
              "      <td>6.2</td>\n",
              "      <td>0.046</td>\n",
              "      <td>29.0</td>\n",
              "      <td>227.0</td>\n",
              "      <td>0.99520</td>\n",
              "      <td>3.29</td>\n",
              "      <td>0.53</td>\n",
              "      <td>10.1</td>\n",
              "      <td>6</td>\n",
              "      <td>1</td>\n",
              "    </tr>\n",
              "    <tr>\n",
              "      <th>2902</th>\n",
              "      <td>NaN</td>\n",
              "      <td>0.360</td>\n",
              "      <td>0.14</td>\n",
              "      <td>8.9</td>\n",
              "      <td>0.036</td>\n",
              "      <td>38.0</td>\n",
              "      <td>155.0</td>\n",
              "      <td>0.99622</td>\n",
              "      <td>3.27</td>\n",
              "      <td>NaN</td>\n",
              "      <td>9.4</td>\n",
              "      <td>5</td>\n",
              "      <td>1</td>\n",
              "    </tr>\n",
              "    <tr>\n",
              "      <th>6428</th>\n",
              "      <td>NaN</td>\n",
              "      <td>0.440</td>\n",
              "      <td>0.09</td>\n",
              "      <td>2.2</td>\n",
              "      <td>0.063</td>\n",
              "      <td>9.0</td>\n",
              "      <td>18.0</td>\n",
              "      <td>0.99444</td>\n",
              "      <td>NaN</td>\n",
              "      <td>0.69</td>\n",
              "      <td>11.3</td>\n",
              "      <td>6</td>\n",
              "      <td>0</td>\n",
              "    </tr>\n",
              "    <tr>\n",
              "      <th>6429</th>\n",
              "      <td>NaN</td>\n",
              "      <td>0.705</td>\n",
              "      <td>0.10</td>\n",
              "      <td>2.8</td>\n",
              "      <td>0.081</td>\n",
              "      <td>13.0</td>\n",
              "      <td>28.0</td>\n",
              "      <td>0.99631</td>\n",
              "      <td>NaN</td>\n",
              "      <td>0.66</td>\n",
              "      <td>10.2</td>\n",
              "      <td>5</td>\n",
              "      <td>0</td>\n",
              "    </tr>\n",
              "  </tbody>\n",
              "</table>\n",
              "</div>"
            ],
            "text/plain": [
              "      fixed acidity  volatile acidity  citric acid  ...  alcohol  quality  type\n",
              "17              NaN             0.660         0.48  ...     12.8        8     1\n",
              "174             NaN             0.270         0.31  ...     10.2        5     1\n",
              "249             NaN             0.410         0.14  ...     10.0        5     1\n",
              "267             NaN             0.580         0.07  ...      9.7        5     1\n",
              "368             NaN             0.290         0.48  ...     10.6        6     1\n",
              "518             NaN             0.130         0.28  ...     10.8        6     1\n",
              "1079            NaN               NaN         0.29  ...     10.1        6     1\n",
              "2902            NaN             0.360         0.14  ...      9.4        5     1\n",
              "6428            NaN             0.440         0.09  ...     11.3        6     0\n",
              "6429            NaN             0.705         0.10  ...     10.2        5     0\n",
              "\n",
              "[10 rows x 13 columns]"
            ]
          },
          "metadata": {
            "tags": []
          },
          "execution_count": 28
        }
      ]
    },
    {
      "cell_type": "code",
      "metadata": {
        "id": "Xq9zW6GXr60k",
        "colab": {
          "base_uri": "https://localhost:8080/"
        },
        "outputId": "342f4544-adf7-4625-ab53-7cfbe1424427"
      },
      "source": [
        "((data.groupby('fixed acidity')['density'].value_counts()).sort_values(ascending=False))"
      ],
      "execution_count": 29,
      "outputs": [
        {
          "output_type": "execute_result",
          "data": {
            "text/plain": [
              "fixed acidity  density\n",
              "7.4            0.99860    13\n",
              "7.0            0.99540    12\n",
              "6.4            0.99480     9\n",
              "7.3            0.99807     8\n",
              "6.8            0.99530     8\n",
              "                          ..\n",
              "7.2            0.99930     1\n",
              "               0.99920     1\n",
              "               0.99900     1\n",
              "               0.99800     1\n",
              "3.8            0.99248     1\n",
              "Name: density, Length: 4188, dtype: int64"
            ]
          },
          "metadata": {
            "tags": []
          },
          "execution_count": 29
        }
      ]
    },
    {
      "cell_type": "markdown",
      "metadata": {
        "id": "KqfR4o5Jsqjx"
      },
      "source": [
        "Судя по данным корреляции и результатам выше, чем выше плотность, тем выше фиксированная кислотность"
      ]
    },
    {
      "cell_type": "code",
      "metadata": {
        "id": "6_mpDk7ZuWZI",
        "colab": {
          "base_uri": "https://localhost:8080/",
          "height": 83
        },
        "outputId": "e2fa9d49-3a4f-4b42-d0e8-1b18406b414f"
      },
      "source": [
        "data.loc[data['fixed acidity'].isnull(), 'fixed acidity'] = data.groupby('density')['fixed acidity'].transform('mean')\n",
        "data.loc[data['fixed acidity'].isnull(), 'fixed acidity'] = data.loc[(data['density']>0.9963)&(data['density']<0.9964)]['fixed acidity'].mean()\n",
        "data[data['fixed acidity'].isnull()]"
      ],
      "execution_count": 30,
      "outputs": [
        {
          "output_type": "execute_result",
          "data": {
            "text/html": [
              "<div>\n",
              "<style scoped>\n",
              "    .dataframe tbody tr th:only-of-type {\n",
              "        vertical-align: middle;\n",
              "    }\n",
              "\n",
              "    .dataframe tbody tr th {\n",
              "        vertical-align: top;\n",
              "    }\n",
              "\n",
              "    .dataframe thead th {\n",
              "        text-align: right;\n",
              "    }\n",
              "</style>\n",
              "<table border=\"1\" class=\"dataframe\">\n",
              "  <thead>\n",
              "    <tr style=\"text-align: right;\">\n",
              "      <th></th>\n",
              "      <th>fixed acidity</th>\n",
              "      <th>volatile acidity</th>\n",
              "      <th>citric acid</th>\n",
              "      <th>residual sugar</th>\n",
              "      <th>chlorides</th>\n",
              "      <th>free sulfur dioxide</th>\n",
              "      <th>total sulfur dioxide</th>\n",
              "      <th>density</th>\n",
              "      <th>pH</th>\n",
              "      <th>sulphates</th>\n",
              "      <th>alcohol</th>\n",
              "      <th>quality</th>\n",
              "      <th>type</th>\n",
              "    </tr>\n",
              "  </thead>\n",
              "  <tbody>\n",
              "  </tbody>\n",
              "</table>\n",
              "</div>"
            ],
            "text/plain": [
              "Empty DataFrame\n",
              "Columns: [fixed acidity, volatile acidity, citric acid, residual sugar, chlorides, free sulfur dioxide, total sulfur dioxide, density, pH, sulphates, alcohol, quality, type]\n",
              "Index: []"
            ]
          },
          "metadata": {
            "tags": []
          },
          "execution_count": 30
        }
      ]
    },
    {
      "cell_type": "markdown",
      "metadata": {
        "id": "D3l-xHxS4wZF"
      },
      "source": [
        "Пустых значений в переменной фиксированной кислотности больше нет. Проделаем то же самое с остальными пропущенными - на основании корреляции заполним все средние"
      ]
    },
    {
      "cell_type": "code",
      "metadata": {
        "id": "mLow1AbC4ugm",
        "colab": {
          "base_uri": "https://localhost:8080/"
        },
        "outputId": "41d53508-cf4b-4c8e-dde8-5a6eaacdb371"
      },
      "source": [
        "data.corrwith(data['volatile acidity']).sort_values(ascending=False)"
      ],
      "execution_count": 31,
      "outputs": [
        {
          "output_type": "execute_result",
          "data": {
            "text/plain": [
              "volatile acidity        1.000000\n",
              "chlorides               0.377167\n",
              "density                 0.271193\n",
              "pH                      0.260660\n",
              "sulphates               0.225476\n",
              "fixed acidity           0.219796\n",
              "alcohol                -0.038248\n",
              "residual sugar         -0.196702\n",
              "quality                -0.265953\n",
              "free sulfur dioxide    -0.353230\n",
              "citric acid            -0.378061\n",
              "total sulfur dioxide   -0.414928\n",
              "type                   -0.652875\n",
              "dtype: float64"
            ]
          },
          "metadata": {
            "tags": []
          },
          "execution_count": 31
        }
      ]
    },
    {
      "cell_type": "code",
      "metadata": {
        "id": "QIznHt7P3Ylt",
        "colab": {
          "base_uri": "https://localhost:8080/"
        },
        "outputId": "d46da9f3-c9d0-43e9-b3c1-62d7f17122a7"
      },
      "source": [
        "((data.groupby('volatile acidity')['chlorides'].value_counts()).sort_values(ascending=False))"
      ],
      "execution_count": 32,
      "outputs": [
        {
          "output_type": "execute_result",
          "data": {
            "text/plain": [
              "volatile acidity  chlorides\n",
              "0.22              0.044        20\n",
              "0.32              0.050        18\n",
              "0.24              0.050        17\n",
              "0.23              0.044        17\n",
              "0.28              0.040        17\n",
              "                               ..\n",
              "0.44              0.095         1\n",
              "                  0.100         1\n",
              "                  0.107         1\n",
              "                  0.114         1\n",
              "0.37              0.025         1\n",
              "Name: chlorides, Length: 2668, dtype: int64"
            ]
          },
          "metadata": {
            "tags": []
          },
          "execution_count": 32
        }
      ]
    },
    {
      "cell_type": "code",
      "metadata": {
        "id": "-4aoXcO6bIw6",
        "colab": {
          "base_uri": "https://localhost:8080/",
          "height": 83
        },
        "outputId": "365cb720-4e12-4140-903e-74c5507709fc"
      },
      "source": [
        "data.loc[data['volatile acidity'].isnull(), 'volatile acidity'] = data.groupby('chlorides')['volatile acidity'].transform('mean')\n",
        "data[data['volatile acidity'].isnull()]"
      ],
      "execution_count": 33,
      "outputs": [
        {
          "output_type": "execute_result",
          "data": {
            "text/html": [
              "<div>\n",
              "<style scoped>\n",
              "    .dataframe tbody tr th:only-of-type {\n",
              "        vertical-align: middle;\n",
              "    }\n",
              "\n",
              "    .dataframe tbody tr th {\n",
              "        vertical-align: top;\n",
              "    }\n",
              "\n",
              "    .dataframe thead th {\n",
              "        text-align: right;\n",
              "    }\n",
              "</style>\n",
              "<table border=\"1\" class=\"dataframe\">\n",
              "  <thead>\n",
              "    <tr style=\"text-align: right;\">\n",
              "      <th></th>\n",
              "      <th>fixed acidity</th>\n",
              "      <th>volatile acidity</th>\n",
              "      <th>citric acid</th>\n",
              "      <th>residual sugar</th>\n",
              "      <th>chlorides</th>\n",
              "      <th>free sulfur dioxide</th>\n",
              "      <th>total sulfur dioxide</th>\n",
              "      <th>density</th>\n",
              "      <th>pH</th>\n",
              "      <th>sulphates</th>\n",
              "      <th>alcohol</th>\n",
              "      <th>quality</th>\n",
              "      <th>type</th>\n",
              "    </tr>\n",
              "  </thead>\n",
              "  <tbody>\n",
              "  </tbody>\n",
              "</table>\n",
              "</div>"
            ],
            "text/plain": [
              "Empty DataFrame\n",
              "Columns: [fixed acidity, volatile acidity, citric acid, residual sugar, chlorides, free sulfur dioxide, total sulfur dioxide, density, pH, sulphates, alcohol, quality, type]\n",
              "Index: []"
            ]
          },
          "metadata": {
            "tags": []
          },
          "execution_count": 33
        }
      ]
    },
    {
      "cell_type": "code",
      "metadata": {
        "id": "4s-8Cdsm5XVw",
        "colab": {
          "base_uri": "https://localhost:8080/"
        },
        "outputId": "6e6a502a-db77-4069-c8a1-e8086133afc3"
      },
      "source": [
        "data.corrwith(data['citric acid']).sort_values(ascending=False)"
      ],
      "execution_count": 34,
      "outputs": [
        {
          "output_type": "execute_result",
          "data": {
            "text/plain": [
              "citric acid             1.000000\n",
              "fixed acidity           0.323108\n",
              "total sulfur dioxide    0.195218\n",
              "type                    0.187126\n",
              "residual sugar          0.142486\n",
              "free sulfur dioxide     0.133437\n",
              "density                 0.096320\n",
              "quality                 0.085706\n",
              "sulphates               0.057613\n",
              "chlorides               0.039315\n",
              "alcohol                -0.010433\n",
              "pH                     -0.328689\n",
              "volatile acidity       -0.377678\n",
              "dtype: float64"
            ]
          },
          "metadata": {
            "tags": []
          },
          "execution_count": 34
        }
      ]
    },
    {
      "cell_type": "code",
      "metadata": {
        "id": "av4lcUWT5cxC",
        "colab": {
          "base_uri": "https://localhost:8080/",
          "height": 83
        },
        "outputId": "ac523351-20bd-4e8c-a5d9-2d020843c787"
      },
      "source": [
        "data.loc[data['citric acid'].isnull(), 'citric acid'] = data.groupby('citric acid')['fixed acidity'].transform('mean')\n",
        "data.loc[data['citric acid'].isnull(), 'citric acid'] = data.groupby('citric acid')['volatile acidity'].transform('mean')\n",
        "data.loc[data['citric acid'].isnull(), 'citric acid'] = data.groupby('citric acid')['pH'].transform('mean')\n",
        "data.loc[data['citric acid'].isnull(), 'citric acid'] = data.loc[(data['fixed acidity']>5.2)&(data['fixed acidity']<5.4)]['citric acid'].mean()\n",
        "data[data['citric acid'].isnull()]"
      ],
      "execution_count": 35,
      "outputs": [
        {
          "output_type": "execute_result",
          "data": {
            "text/html": [
              "<div>\n",
              "<style scoped>\n",
              "    .dataframe tbody tr th:only-of-type {\n",
              "        vertical-align: middle;\n",
              "    }\n",
              "\n",
              "    .dataframe tbody tr th {\n",
              "        vertical-align: top;\n",
              "    }\n",
              "\n",
              "    .dataframe thead th {\n",
              "        text-align: right;\n",
              "    }\n",
              "</style>\n",
              "<table border=\"1\" class=\"dataframe\">\n",
              "  <thead>\n",
              "    <tr style=\"text-align: right;\">\n",
              "      <th></th>\n",
              "      <th>fixed acidity</th>\n",
              "      <th>volatile acidity</th>\n",
              "      <th>citric acid</th>\n",
              "      <th>residual sugar</th>\n",
              "      <th>chlorides</th>\n",
              "      <th>free sulfur dioxide</th>\n",
              "      <th>total sulfur dioxide</th>\n",
              "      <th>density</th>\n",
              "      <th>pH</th>\n",
              "      <th>sulphates</th>\n",
              "      <th>alcohol</th>\n",
              "      <th>quality</th>\n",
              "      <th>type</th>\n",
              "    </tr>\n",
              "  </thead>\n",
              "  <tbody>\n",
              "  </tbody>\n",
              "</table>\n",
              "</div>"
            ],
            "text/plain": [
              "Empty DataFrame\n",
              "Columns: [fixed acidity, volatile acidity, citric acid, residual sugar, chlorides, free sulfur dioxide, total sulfur dioxide, density, pH, sulphates, alcohol, quality, type]\n",
              "Index: []"
            ]
          },
          "metadata": {
            "tags": []
          },
          "execution_count": 35
        }
      ]
    },
    {
      "cell_type": "code",
      "metadata": {
        "id": "q-5WQbS5613y",
        "colab": {
          "base_uri": "https://localhost:8080/"
        },
        "outputId": "865b5452-d4c0-4243-b832-50f2f6924d76"
      },
      "source": [
        "data.corrwith(data['pH']).sort_values(ascending=False)"
      ],
      "execution_count": 36,
      "outputs": [
        {
          "output_type": "execute_result",
          "data": {
            "text/plain": [
              "pH                      1.000000\n",
              "volatile acidity        0.260118\n",
              "sulphates               0.191248\n",
              "alcohol                 0.121002\n",
              "chlorides               0.044806\n",
              "quality                 0.019366\n",
              "density                 0.011920\n",
              "free sulfur dioxide    -0.145191\n",
              "total sulfur dioxide   -0.237687\n",
              "fixed acidity          -0.251813\n",
              "residual sugar         -0.267050\n",
              "citric acid            -0.328686\n",
              "type                   -0.328727\n",
              "dtype: float64"
            ]
          },
          "metadata": {
            "tags": []
          },
          "execution_count": 36
        }
      ]
    },
    {
      "cell_type": "code",
      "metadata": {
        "id": "R_Cwz-7APt4w",
        "colab": {
          "base_uri": "https://localhost:8080/"
        },
        "outputId": "4ab87bb2-d0f3-423a-fab3-eabd1629d7b1"
      },
      "source": [
        "((data.groupby('volatile acidity')['pH'].value_counts()).sort_values())#ascending=False))"
      ],
      "execution_count": 37,
      "outputs": [
        {
          "output_type": "execute_result",
          "data": {
            "text/plain": [
              "volatile acidity  pH  \n",
              "1.58              3.50     1\n",
              "0.28              3.53     1\n",
              "                  3.45     1\n",
              "                  3.41     1\n",
              "                  3.40     1\n",
              "                          ..\n",
              "0.23              3.23    15\n",
              "0.27              3.16    15\n",
              "0.20              3.14    15\n",
              "0.21              3.25    16\n",
              "0.30              3.18    16\n",
              "Name: pH, Length: 2628, dtype: int64"
            ]
          },
          "metadata": {
            "tags": []
          },
          "execution_count": 37
        }
      ]
    },
    {
      "cell_type": "code",
      "metadata": {
        "id": "fp61jf_7OZxF",
        "colab": {
          "base_uri": "https://localhost:8080/",
          "height": 408
        },
        "outputId": "4cf03e25-c1d2-41fd-d0ed-dc73b7aa6697"
      },
      "source": [
        "data[(data['volatile acidity']>1)].groupby(['pH'])['citric acid'].sum().plot(grid=True, xticks=range(0,10))\n"
      ],
      "execution_count": 38,
      "outputs": [
        {
          "output_type": "execute_result",
          "data": {
            "text/plain": [
              "<matplotlib.axes._subplots.AxesSubplot at 0x7f4f383d1940>"
            ]
          },
          "metadata": {
            "tags": []
          },
          "execution_count": 38
        },
        {
          "output_type": "display_data",
          "data": {
            "image/png": "[encoded data removed]",
            "text/plain": [
              "<Figure size 576x432 with 1 Axes>"
            ]
          },
          "metadata": {
            "tags": []
          }
        }
      ]
    },
    {
      "cell_type": "code",
      "metadata": {
        "id": "J1bVlidcMQ_a",
        "colab": {
          "base_uri": "https://localhost:8080/",
          "height": 83
        },
        "outputId": "fda258a1-cc23-4c3d-ea01-d06dc65ab01c"
      },
      "source": [
        "data.loc[(data['pH'].isnull())&(data['volatile acidity']>=0.2)&(data['volatile acidity']<=0.23), 'pH'] \\\n",
        "= data.groupby('volatile acidity')['pH'].transform('mean')\n",
        "data.loc[(data['pH'].isnull())&(data['volatile acidity']>=0.28)&(data['volatile acidity']<=0.32), 'pH'] \\\n",
        "= data.groupby('volatile acidity')['pH'].transform('mean')\n",
        "data.loc[(data['pH'].isnull())&(data['volatile acidity']>=0.43)&(data['volatile acidity']<=0.45), 'pH'] \\\n",
        "= data.groupby('volatile acidity')['pH'].transform('mean')\n",
        "data.loc[(data['pH'].isnull())&(data['volatile acidity']>=0.695)&(data['volatile acidity']<=0.71), 'pH'] \\\n",
        "= data.groupby('volatile acidity')['pH'].transform('mean')\n",
        "data[data['pH'].isnull()]"
      ],
      "execution_count": 39,
      "outputs": [
        {
          "output_type": "execute_result",
          "data": {
            "text/html": [
              "<div>\n",
              "<style scoped>\n",
              "    .dataframe tbody tr th:only-of-type {\n",
              "        vertical-align: middle;\n",
              "    }\n",
              "\n",
              "    .dataframe tbody tr th {\n",
              "        vertical-align: top;\n",
              "    }\n",
              "\n",
              "    .dataframe thead th {\n",
              "        text-align: right;\n",
              "    }\n",
              "</style>\n",
              "<table border=\"1\" class=\"dataframe\">\n",
              "  <thead>\n",
              "    <tr style=\"text-align: right;\">\n",
              "      <th></th>\n",
              "      <th>fixed acidity</th>\n",
              "      <th>volatile acidity</th>\n",
              "      <th>citric acid</th>\n",
              "      <th>residual sugar</th>\n",
              "      <th>chlorides</th>\n",
              "      <th>free sulfur dioxide</th>\n",
              "      <th>total sulfur dioxide</th>\n",
              "      <th>density</th>\n",
              "      <th>pH</th>\n",
              "      <th>sulphates</th>\n",
              "      <th>alcohol</th>\n",
              "      <th>quality</th>\n",
              "      <th>type</th>\n",
              "    </tr>\n",
              "  </thead>\n",
              "  <tbody>\n",
              "  </tbody>\n",
              "</table>\n",
              "</div>"
            ],
            "text/plain": [
              "Empty DataFrame\n",
              "Columns: [fixed acidity, volatile acidity, citric acid, residual sugar, chlorides, free sulfur dioxide, total sulfur dioxide, density, pH, sulphates, alcohol, quality, type]\n",
              "Index: []"
            ]
          },
          "metadata": {
            "tags": []
          },
          "execution_count": 39
        }
      ]
    },
    {
      "cell_type": "code",
      "metadata": {
        "id": "TqO_cbD761yH",
        "colab": {
          "base_uri": "https://localhost:8080/"
        },
        "outputId": "acc2e3dc-259b-4097-bd42-e3015a5a34bc"
      },
      "source": [
        "data.corrwith(data['sulphates']).sort_values(ascending=False)"
      ],
      "execution_count": 40,
      "outputs": [
        {
          "output_type": "execute_result",
          "data": {
            "text/plain": [
              "sulphates               1.000000\n",
              "chlorides               0.395332\n",
              "fixed acidity           0.300390\n",
              "density                 0.259454\n",
              "volatile acidity        0.225491\n",
              "pH                      0.191274\n",
              "citric acid             0.057391\n",
              "quality                 0.038729\n",
              "alcohol                -0.003261\n",
              "residual sugar         -0.185745\n",
              "free sulfur dioxide    -0.188489\n",
              "total sulfur dioxide   -0.275381\n",
              "type                   -0.486916\n",
              "dtype: float64"
            ]
          },
          "metadata": {
            "tags": []
          },
          "execution_count": 40
        }
      ]
    },
    {
      "cell_type": "code",
      "metadata": {
        "id": "KbuPnBMQr1RX",
        "colab": {
          "base_uri": "https://localhost:8080/"
        },
        "outputId": "23d32518-473f-4d31-fb06-15924b22b9ff"
      },
      "source": [
        "data['sulphates'].value_counts()"
      ],
      "execution_count": 41,
      "outputs": [
        {
          "output_type": "execute_result",
          "data": {
            "text/plain": [
              "0.50    275\n",
              "0.46    243\n",
              "0.54    234\n",
              "0.44    232\n",
              "0.38    214\n",
              "       ... \n",
              "1.59      1\n",
              "1.12      1\n",
              "1.33      1\n",
              "1.56      1\n",
              "1.62      1\n",
              "Name: sulphates, Length: 111, dtype: int64"
            ]
          },
          "metadata": {
            "tags": []
          },
          "execution_count": 41
        }
      ]
    },
    {
      "cell_type": "code",
      "metadata": {
        "id": "juiqDnXf2TYj",
        "colab": {
          "base_uri": "https://localhost:8080/"
        },
        "outputId": "82a70e8f-726d-4683-c852-291064dcdac2"
      },
      "source": [
        "((data.groupby('chlorides')['sulphates'].value_counts()).sort_values(ascending=False))"
      ],
      "execution_count": 42,
      "outputs": [
        {
          "output_type": "execute_result",
          "data": {
            "text/plain": [
              "chlorides  sulphates\n",
              "0.047      0.46         18\n",
              "0.044      0.46         16\n",
              "0.036      0.44         15\n",
              "0.044      0.48         15\n",
              "0.054      0.50         15\n",
              "                        ..\n",
              "0.069      0.62          1\n",
              "           0.63          1\n",
              "           0.72          1\n",
              "           0.74          1\n",
              "0.009      0.37          1\n",
              "Name: sulphates, Length: 2617, dtype: int64"
            ]
          },
          "metadata": {
            "tags": []
          },
          "execution_count": 42
        }
      ]
    },
    {
      "cell_type": "code",
      "metadata": {
        "id": "VJSosk-Wqxp9",
        "colab": {
          "base_uri": "https://localhost:8080/",
          "height": 83
        },
        "outputId": "9f431770-a4fa-4ae6-d71e-3338143fb710"
      },
      "source": [
        "data.loc[data['sulphates'].isnull(), 'sulphates'] = data.groupby('chlorides')['sulphates'].transform('mean')\n",
        "data[data['sulphates'].isnull()]"
      ],
      "execution_count": 43,
      "outputs": [
        {
          "output_type": "execute_result",
          "data": {
            "text/html": [
              "<div>\n",
              "<style scoped>\n",
              "    .dataframe tbody tr th:only-of-type {\n",
              "        vertical-align: middle;\n",
              "    }\n",
              "\n",
              "    .dataframe tbody tr th {\n",
              "        vertical-align: top;\n",
              "    }\n",
              "\n",
              "    .dataframe thead th {\n",
              "        text-align: right;\n",
              "    }\n",
              "</style>\n",
              "<table border=\"1\" class=\"dataframe\">\n",
              "  <thead>\n",
              "    <tr style=\"text-align: right;\">\n",
              "      <th></th>\n",
              "      <th>fixed acidity</th>\n",
              "      <th>volatile acidity</th>\n",
              "      <th>citric acid</th>\n",
              "      <th>residual sugar</th>\n",
              "      <th>chlorides</th>\n",
              "      <th>free sulfur dioxide</th>\n",
              "      <th>total sulfur dioxide</th>\n",
              "      <th>density</th>\n",
              "      <th>pH</th>\n",
              "      <th>sulphates</th>\n",
              "      <th>alcohol</th>\n",
              "      <th>quality</th>\n",
              "      <th>type</th>\n",
              "    </tr>\n",
              "  </thead>\n",
              "  <tbody>\n",
              "  </tbody>\n",
              "</table>\n",
              "</div>"
            ],
            "text/plain": [
              "Empty DataFrame\n",
              "Columns: [fixed acidity, volatile acidity, citric acid, residual sugar, chlorides, free sulfur dioxide, total sulfur dioxide, density, pH, sulphates, alcohol, quality, type]\n",
              "Index: []"
            ]
          },
          "metadata": {
            "tags": []
          },
          "execution_count": 43
        }
      ]
    },
    {
      "cell_type": "code",
      "metadata": {
        "id": "Eu8g0MJB5Le9",
        "colab": {
          "base_uri": "https://localhost:8080/"
        },
        "outputId": "3510b3d4-d740-48d4-9898-0bbde6aeea62"
      },
      "source": [
        "data.corrwith(data['residual sugar']).sort_values(ascending=False)"
      ],
      "execution_count": 44,
      "outputs": [
        {
          "output_type": "execute_result",
          "data": {
            "text/plain": [
              "residual sugar          1.000000\n",
              "density                 0.552498\n",
              "total sulfur dioxide    0.495820\n",
              "free sulfur dioxide     0.403439\n",
              "type                    0.349000\n",
              "citric acid             0.142336\n",
              "quality                -0.036825\n",
              "fixed acidity          -0.111727\n",
              "chlorides              -0.128902\n",
              "sulphates              -0.185771\n",
              "volatile acidity       -0.196394\n",
              "pH                     -0.266812\n",
              "alcohol                -0.359706\n",
              "dtype: float64"
            ]
          },
          "metadata": {
            "tags": []
          },
          "execution_count": 44
        }
      ]
    },
    {
      "cell_type": "code",
      "metadata": {
        "id": "szT0-E6b5Mxj",
        "colab": {
          "base_uri": "https://localhost:8080/",
          "height": 83
        },
        "outputId": "8880c2e9-ee8b-4017-a7e0-7db6de3e99ca"
      },
      "source": [
        "data.loc[data['residual sugar'].isnull(), 'residual sugar'] = data.groupby('density')['residual sugar'].transform('mean')\n",
        "data[data['residual sugar'].isnull()]"
      ],
      "execution_count": 45,
      "outputs": [
        {
          "output_type": "execute_result",
          "data": {
            "text/html": [
              "<div>\n",
              "<style scoped>\n",
              "    .dataframe tbody tr th:only-of-type {\n",
              "        vertical-align: middle;\n",
              "    }\n",
              "\n",
              "    .dataframe tbody tr th {\n",
              "        vertical-align: top;\n",
              "    }\n",
              "\n",
              "    .dataframe thead th {\n",
              "        text-align: right;\n",
              "    }\n",
              "</style>\n",
              "<table border=\"1\" class=\"dataframe\">\n",
              "  <thead>\n",
              "    <tr style=\"text-align: right;\">\n",
              "      <th></th>\n",
              "      <th>fixed acidity</th>\n",
              "      <th>volatile acidity</th>\n",
              "      <th>citric acid</th>\n",
              "      <th>residual sugar</th>\n",
              "      <th>chlorides</th>\n",
              "      <th>free sulfur dioxide</th>\n",
              "      <th>total sulfur dioxide</th>\n",
              "      <th>density</th>\n",
              "      <th>pH</th>\n",
              "      <th>sulphates</th>\n",
              "      <th>alcohol</th>\n",
              "      <th>quality</th>\n",
              "      <th>type</th>\n",
              "    </tr>\n",
              "  </thead>\n",
              "  <tbody>\n",
              "  </tbody>\n",
              "</table>\n",
              "</div>"
            ],
            "text/plain": [
              "Empty DataFrame\n",
              "Columns: [fixed acidity, volatile acidity, citric acid, residual sugar, chlorides, free sulfur dioxide, total sulfur dioxide, density, pH, sulphates, alcohol, quality, type]\n",
              "Index: []"
            ]
          },
          "metadata": {
            "tags": []
          },
          "execution_count": 45
        }
      ]
    },
    {
      "cell_type": "code",
      "metadata": {
        "id": "kcrctmLI6CVq",
        "colab": {
          "base_uri": "https://localhost:8080/"
        },
        "outputId": "b395a2c5-6b41-4021-92e6-847d2b6be333"
      },
      "source": [
        "data.corrwith(data['chlorides']).sort_values(ascending=False)"
      ],
      "execution_count": 46,
      "outputs": [
        {
          "output_type": "execute_result",
          "data": {
            "text/plain": [
              "chlorides               1.000000\n",
              "sulphates               0.395272\n",
              "volatile acidity        0.377340\n",
              "density                 0.362594\n",
              "fixed acidity           0.298402\n",
              "pH                      0.044908\n",
              "citric acid             0.039301\n",
              "residual sugar         -0.128864\n",
              "free sulfur dioxide    -0.195042\n",
              "quality                -0.200886\n",
              "alcohol                -0.256861\n",
              "total sulfur dioxide   -0.279580\n",
              "type                   -0.512622\n",
              "dtype: float64"
            ]
          },
          "metadata": {
            "tags": []
          },
          "execution_count": 46
        }
      ]
    },
    {
      "cell_type": "code",
      "metadata": {
        "id": "s4nEOEkO5yK9",
        "colab": {
          "base_uri": "https://localhost:8080/",
          "height": 83
        },
        "outputId": "2f1751b3-2542-4e3d-dcf6-e651a811f26d"
      },
      "source": [
        "data.loc[data['chlorides'].isnull(), 'chlorides'] = data.groupby('sulphates')['chlorides'].transform('mean')\n",
        "data[data['chlorides'].isnull()]"
      ],
      "execution_count": 47,
      "outputs": [
        {
          "output_type": "execute_result",
          "data": {
            "text/html": [
              "<div>\n",
              "<style scoped>\n",
              "    .dataframe tbody tr th:only-of-type {\n",
              "        vertical-align: middle;\n",
              "    }\n",
              "\n",
              "    .dataframe tbody tr th {\n",
              "        vertical-align: top;\n",
              "    }\n",
              "\n",
              "    .dataframe thead th {\n",
              "        text-align: right;\n",
              "    }\n",
              "</style>\n",
              "<table border=\"1\" class=\"dataframe\">\n",
              "  <thead>\n",
              "    <tr style=\"text-align: right;\">\n",
              "      <th></th>\n",
              "      <th>fixed acidity</th>\n",
              "      <th>volatile acidity</th>\n",
              "      <th>citric acid</th>\n",
              "      <th>residual sugar</th>\n",
              "      <th>chlorides</th>\n",
              "      <th>free sulfur dioxide</th>\n",
              "      <th>total sulfur dioxide</th>\n",
              "      <th>density</th>\n",
              "      <th>pH</th>\n",
              "      <th>sulphates</th>\n",
              "      <th>alcohol</th>\n",
              "      <th>quality</th>\n",
              "      <th>type</th>\n",
              "    </tr>\n",
              "  </thead>\n",
              "  <tbody>\n",
              "  </tbody>\n",
              "</table>\n",
              "</div>"
            ],
            "text/plain": [
              "Empty DataFrame\n",
              "Columns: [fixed acidity, volatile acidity, citric acid, residual sugar, chlorides, free sulfur dioxide, total sulfur dioxide, density, pH, sulphates, alcohol, quality, type]\n",
              "Index: []"
            ]
          },
          "metadata": {
            "tags": []
          },
          "execution_count": 47
        }
      ]
    },
    {
      "cell_type": "code",
      "metadata": {
        "id": "SUsBTTsy6S0c",
        "colab": {
          "base_uri": "https://localhost:8080/"
        },
        "outputId": "184525ba-e929-401a-9637-d8f58afa87ff"
      },
      "source": [
        "data.isnull().sum()"
      ],
      "execution_count": 48,
      "outputs": [
        {
          "output_type": "execute_result",
          "data": {
            "text/plain": [
              "fixed acidity           0\n",
              "volatile acidity        0\n",
              "citric acid             0\n",
              "residual sugar          0\n",
              "chlorides               0\n",
              "free sulfur dioxide     0\n",
              "total sulfur dioxide    0\n",
              "density                 0\n",
              "pH                      0\n",
              "sulphates               0\n",
              "alcohol                 0\n",
              "quality                 0\n",
              "type                    0\n",
              "dtype: int64"
            ]
          },
          "metadata": {
            "tags": []
          },
          "execution_count": 48
        }
      ]
    },
    {
      "cell_type": "markdown",
      "metadata": {
        "id": "3dZwwM8vDqH1"
      },
      "source": [
        "Больше пропущенных значений нет,- не будет проблем, связанными с ними, при построении некоторых моделей построении"
      ]
    },
    {
      "cell_type": "markdown",
      "metadata": {
        "id": "HEVr9uQUSLVq"
      },
      "source": [
        "## 3.4 Сборка финальных датасетов для моделирования"
      ]
    },
    {
      "cell_type": "code",
      "metadata": {
        "id": "YB_VhtPnSNAu"
      },
      "source": [
        "y = data['quality']\n",
        "X = data.drop(['quality'], axis=1)"
      ],
      "execution_count": 49,
      "outputs": []
    },
    {
      "cell_type": "markdown",
      "metadata": {
        "id": "EiLobuu1GEwH"
      },
      "source": [
        "### 3.4.2 Создание датасетов\n",
        "\n",
        "Отделяем данные для обучения и для проверки"
      ]
    },
    {
      "cell_type": "code",
      "metadata": {
        "id": "2IDmho-t6TM0",
        "colab": {
          "base_uri": "https://localhost:8080/"
        },
        "outputId": "d9ad9461-4058-4fb6-8cc5-b78d736fe44d"
      },
      "source": [
        "X_train, X_test, y_train, y_test = train_test_split(X, y)\n",
        "X_train.shape, y_train.shape, X_test.shape, y_train.shape"
      ],
      "execution_count": 50,
      "outputs": [
        {
          "output_type": "execute_result",
          "data": {
            "text/plain": [
              "((4872, 12), (4872,), (1625, 12), (4872,))"
            ]
          },
          "metadata": {
            "tags": []
          },
          "execution_count": 50
        }
      ]
    },
    {
      "cell_type": "markdown",
      "metadata": {
        "id": "Hx6qnq8nTxLb"
      },
      "source": [
        "### 3.4.3 Важность признаков\n",
        "Отбор оптимальных признаков для модели имеет важное значение. Теперь мы попытаемся оценить, какие переменные являются наиболее важными, чтобы сделать прогноз."
      ]
    },
    {
      "cell_type": "code",
      "metadata": {
        "id": "v9BcF2hH6TKS",
        "colab": {
          "base_uri": "https://localhost:8080/",
          "height": 391
        },
        "outputId": "87386d23-c024-42a9-c16e-420400d7ac14"
      },
      "source": [
        "plot_variable_importance(X_train, y_train)"
      ],
      "execution_count": 51,
      "outputs": [
        {
          "output_type": "stream",
          "text": [
            "1.0\n"
          ],
          "name": "stdout"
        },
        {
          "output_type": "display_data",
          "data": {
            "image/png": "[encoded data removed]",
            "text/plain": [
              "<Figure size 576x432 with 1 Axes>"
            ]
          },
          "metadata": {
            "tags": []
          }
        }
      ]
    },
    {
      "cell_type": "markdown",
      "metadata": {
        "id": "B7gDk1qQT6RO"
      },
      "source": [
        "# 4. Моделирование\n",
        "Теперь мы выберем модель, которую хотели бы попробовать. Используем обучающий набор данных для обучения модели и затем проверим ее с помощью тестового набора.\n",
        "\n",
        "## 4.1 Выбор модели\n",
        "Хорошей отправной точкой является Бустинг."
      ]
    },
    {
      "cell_type": "code",
      "metadata": {
        "id": "ZFvfFhyE6THC"
      },
      "source": [
        "model_cat = XGBClassifier(n_estimators=1000, learning_rate=0.2, max_depth=4, silent=True)\n"
      ],
      "execution_count": 52,
      "outputs": []
    },
    {
      "cell_type": "markdown",
      "metadata": {
        "id": "9cbtqrOHawzI"
      },
      "source": [
        "## 4.2 Обучение модели"
      ]
    },
    {
      "cell_type": "code",
      "metadata": {
        "id": "KH5eJPRe6TE3",
        "colab": {
          "base_uri": "https://localhost:8080/"
        },
        "outputId": "05addba3-a5bb-4f4a-f3b8-2f62c1d88648"
      },
      "source": [
        "model_cat.fit( X_train , y_train )"
      ],
      "execution_count": 53,
      "outputs": [
        {
          "output_type": "execute_result",
          "data": {
            "text/plain": [
              "XGBClassifier(base_score=0.5, booster='gbtree', colsample_bylevel=1,\n",
              "              colsample_bynode=1, colsample_bytree=1, gamma=0,\n",
              "              learning_rate=0.2, max_delta_step=0, max_depth=4,\n",
              "              min_child_weight=1, missing=None, n_estimators=1000, n_jobs=1,\n",
              "              nthread=None, objective='multi:softprob', random_state=0,\n",
              "              reg_alpha=0, reg_lambda=1, scale_pos_weight=1, seed=None,\n",
              "              silent=True, subsample=1, verbosity=1)"
            ]
          },
          "metadata": {
            "tags": []
          },
          "execution_count": 53
        }
      ]
    },
    {
      "cell_type": "markdown",
      "metadata": {
        "id": "vu1l6Y__bA6w"
      },
      "source": [
        "# 5. Оценка\n",
        "Теперь мы собираемся оценить модель\n",
        "\n",
        "## 5.1 Модель\n",
        "Мы можем оценить точность модели, используя набор для валидации, где мы знаем фактический результат. Этот набор данных не использовался для обучения, поэтому он абсолютно новый для модели.\n",
        "\n",
        "Затем мы сравниваем точность с точностью при использовании модели на тренировочных данных. Если разница между ними значительна, это свидетельствует о переобучении. Мы стараемся избегать этого, потому что это означает, что модель не будет хорошо обобщаться на новые данные (будет работать плохо)"
      ]
    },
    {
      "cell_type": "code",
      "metadata": {
        "id": "s2d2C6aq6TC0",
        "colab": {
          "base_uri": "https://localhost:8080/"
        },
        "outputId": "cd58c484-f883-4e43-ceb3-0cf78029164f"
      },
      "source": [
        "#print (score(model_cat, X_train, X_test, y_train, y_test))\n",
        "print (model_cat.score( X_train , y_train ) , model_cat.score( X_test , y_test ))"
      ],
      "execution_count": 54,
      "outputs": [
        {
          "output_type": "stream",
          "text": [
            "1.0 0.6406153846153846\n"
          ],
          "name": "stdout"
        }
      ]
    },
    {
      "cell_type": "code",
      "metadata": {
        "id": "L-s7TtTIbI22",
        "colab": {
          "base_uri": "https://localhost:8080/"
        },
        "outputId": "a911e0d9-08ae-4a52-c227-acf8f1c9f992"
      },
      "source": [
        "#Линейную регрессию\n",
        "model_lr = LinearRegression()\n",
        "model_lr.fit(X_train, y_train)\n",
        "y_pred_test = model_lr.predict(X_test)\n",
        "y_pred_train = model_lr.predict(X_train)\n",
        "print(\"R2: \\t\", r2_score(y_train, y_pred_train),r2_score(y_test, y_pred_test))"
      ],
      "execution_count": 55,
      "outputs": [
        {
          "output_type": "stream",
          "text": [
            "R2: \t 0.30314392022906467 0.2745757281151677\n"
          ],
          "name": "stdout"
        }
      ]
    },
    {
      "cell_type": "code",
      "metadata": {
        "id": "p2ozZm1dbI25",
        "colab": {
          "base_uri": "https://localhost:8080/"
        },
        "outputId": "8d4b4383-8f14-4781-de4a-38f72a66b2a9"
      },
      "source": [
        "#Бустинг\n",
        "model_cat = XGBRegressor(n_estimators=1000, learning_rate=0.2, max_depth=4, silent=True)\n",
        "model_cat.fit(X_train, y_train)\n",
        "y_pred_test = model_cat.predict(X_test)\n",
        "y_pred_train = model_cat.predict(X_train)\n",
        "print(mean_squared_error(y_train, y_pred_train), mean_squared_error(y_test, y_pred_test))\n",
        "print(r2_score(y_train, y_pred_train), r2_score(y_test, y_pred_test)  )   "
      ],
      "execution_count": 56,
      "outputs": [
        {
          "output_type": "stream",
          "text": [
            "0.023859540140933024 0.43292584500239145\n",
            "0.9684752567464097 0.44386319835598365\n"
          ],
          "name": "stdout"
        }
      ]
    },
    {
      "cell_type": "markdown",
      "metadata": {
        "id": "1wS2QJlSbI3T"
      },
      "source": [
        "# Качество модели не очень высокое. Попробуем стекинг"
      ]
    },
    {
      "cell_type": "code",
      "metadata": {
        "id": "P2bL6S85bI3T",
        "colab": {
          "base_uri": "https://localhost:8080/"
        },
        "outputId": "166fd570-a1d5-4e0d-93a2-5a449161eab7"
      },
      "source": [
        "skf = KFold(n_splits=10, random_state=None, shuffle=False)\n",
        "train_metric, test_metric = [], []\n",
        "for train_index, test_index in skf.split(X, y):\n",
        "    X_train, X_test = X.loc[train_index], X.loc[test_index]\n",
        "    y_train, y_test = y.loc[train_index], y.loc[test_index]\n",
        "    clf_tree = RandomForestRegressor(n_estimators=1000, max_features=5)\n",
        "    clf_tree.fit(X_train, y_train)\n",
        "    y_pred_train_rf, y_pred_test_rf = model_cat.predict(X_train), model_cat.predict(X_test)\n",
        "    mean_squared_error(y_train, y_pred_train_rf), mean_squared_error(y_test, y_pred_test_rf)\n",
        "    train_metric.append(r2_score(y_train, y_pred_train_rf))\n",
        "    test_metric.append(r2_score(y_test, y_pred_test_rf))\n",
        "    print(r2_score(y_train, y_pred_train_rf), r2_score(y_test, y_pred_test_rf))\n",
        "print(sum(train_metric)/len(train_metric))\n",
        "print(sum(test_metric)/len(test_metric))"
      ],
      "execution_count": 57,
      "outputs": [
        {
          "output_type": "stream",
          "text": [
            "0.8373602514032766 0.8090730508092561\n",
            "0.8388051949949706 0.8034238435909583\n",
            "0.8352025828454878 0.828448528305023\n",
            "0.8346980185497551 0.825469482926461\n",
            "0.8321071017070111 0.8463517251783759\n",
            "0.8323645983324467 0.8431455978069101\n",
            "0.8339742024202282 0.840711628354924\n",
            "0.8304891593936263 0.8759420007447632\n",
            "0.8333308159172416 0.8398882561091444\n",
            "0.8365629908965366 0.8103244393253765\n",
            "0.834489491646058\n",
            "0.8322778553151192\n"
          ],
          "name": "stdout"
        }
      ]
    }
  ]
}